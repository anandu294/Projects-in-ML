{
 "cells": [
  {
   "cell_type": "code",
   "execution_count": 1,
   "metadata": {},
   "outputs": [],
   "source": [
    "import pandas as pd\n",
    "import matplotlib.pyplot as ptd\n",
    "import numpy as np"
   ]
  },
  {
   "cell_type": "code",
   "execution_count": 2,
   "metadata": {},
   "outputs": [
    {
     "data": {
      "text/html": [
       "<div>\n",
       "<style scoped>\n",
       "    .dataframe tbody tr th:only-of-type {\n",
       "        vertical-align: middle;\n",
       "    }\n",
       "\n",
       "    .dataframe tbody tr th {\n",
       "        vertical-align: top;\n",
       "    }\n",
       "\n",
       "    .dataframe thead th {\n",
       "        text-align: right;\n",
       "    }\n",
       "</style>\n",
       "<table border=\"1\" class=\"dataframe\">\n",
       "  <thead>\n",
       "    <tr style=\"text-align: right;\">\n",
       "      <th></th>\n",
       "      <th>Rainfall</th>\n",
       "      <th>Evaporation</th>\n",
       "      <th>WindGustDir</th>\n",
       "      <th>WindGustSpeed</th>\n",
       "      <th>WindSpeed3pm</th>\n",
       "      <th>Humidity3pm</th>\n",
       "      <th>Pressure3pm</th>\n",
       "      <th>Cloud3pm</th>\n",
       "      <th>RainToday</th>\n",
       "      <th>RISK_MM</th>\n",
       "      <th>RainTomorrow</th>\n",
       "    </tr>\n",
       "  </thead>\n",
       "  <tbody>\n",
       "    <tr>\n",
       "      <th>0</th>\n",
       "      <td>0.0</td>\n",
       "      <td>3.4</td>\n",
       "      <td>NW</td>\n",
       "      <td>30.0</td>\n",
       "      <td>20</td>\n",
       "      <td>29</td>\n",
       "      <td>1015.0</td>\n",
       "      <td>7</td>\n",
       "      <td>No</td>\n",
       "      <td>3.6</td>\n",
       "      <td>Yes</td>\n",
       "    </tr>\n",
       "    <tr>\n",
       "      <th>1</th>\n",
       "      <td>3.6</td>\n",
       "      <td>4.4</td>\n",
       "      <td>ENE</td>\n",
       "      <td>39.0</td>\n",
       "      <td>17</td>\n",
       "      <td>36</td>\n",
       "      <td>1008.4</td>\n",
       "      <td>3</td>\n",
       "      <td>Yes</td>\n",
       "      <td>3.6</td>\n",
       "      <td>Yes</td>\n",
       "    </tr>\n",
       "    <tr>\n",
       "      <th>2</th>\n",
       "      <td>3.6</td>\n",
       "      <td>5.8</td>\n",
       "      <td>NW</td>\n",
       "      <td>85.0</td>\n",
       "      <td>6</td>\n",
       "      <td>69</td>\n",
       "      <td>1007.2</td>\n",
       "      <td>7</td>\n",
       "      <td>Yes</td>\n",
       "      <td>39.8</td>\n",
       "      <td>Yes</td>\n",
       "    </tr>\n",
       "    <tr>\n",
       "      <th>3</th>\n",
       "      <td>39.8</td>\n",
       "      <td>7.2</td>\n",
       "      <td>NW</td>\n",
       "      <td>54.0</td>\n",
       "      <td>24</td>\n",
       "      <td>56</td>\n",
       "      <td>1007.0</td>\n",
       "      <td>7</td>\n",
       "      <td>Yes</td>\n",
       "      <td>2.8</td>\n",
       "      <td>Yes</td>\n",
       "    </tr>\n",
       "    <tr>\n",
       "      <th>4</th>\n",
       "      <td>2.8</td>\n",
       "      <td>5.6</td>\n",
       "      <td>SSE</td>\n",
       "      <td>50.0</td>\n",
       "      <td>28</td>\n",
       "      <td>49</td>\n",
       "      <td>1018.5</td>\n",
       "      <td>7</td>\n",
       "      <td>Yes</td>\n",
       "      <td>0.0</td>\n",
       "      <td>No</td>\n",
       "    </tr>\n",
       "  </tbody>\n",
       "</table>\n",
       "</div>"
      ],
      "text/plain": [
       "   Rainfall  Evaporation WindGustDir  WindGustSpeed  WindSpeed3pm  \\\n",
       "0       0.0          3.4          NW           30.0            20   \n",
       "1       3.6          4.4         ENE           39.0            17   \n",
       "2       3.6          5.8          NW           85.0             6   \n",
       "3      39.8          7.2          NW           54.0            24   \n",
       "4       2.8          5.6         SSE           50.0            28   \n",
       "\n",
       "   Humidity3pm  Pressure3pm  Cloud3pm RainToday  RISK_MM RainTomorrow  \n",
       "0           29       1015.0         7        No      3.6          Yes  \n",
       "1           36       1008.4         3       Yes      3.6          Yes  \n",
       "2           69       1007.2         7       Yes     39.8          Yes  \n",
       "3           56       1007.0         7       Yes      2.8          Yes  \n",
       "4           49       1018.5         7       Yes      0.0           No  "
      ]
     },
     "execution_count": 2,
     "metadata": {},
     "output_type": "execute_result"
    }
   ],
   "source": [
    "\n",
    "import types\n",
    "import pandas as pd\n",
    "from botocore.client import Config\n",
    "import ibm_boto3\n",
    "\n",
    "def __iter__(self): return 0\n",
    "\n",
    "# @hidden_cell\n",
    "# The following code accesses a file in your IBM Cloud Object Storage. It includes your credentials.\n",
    "# You might want to remove those credentials before you share your notebook.\n",
    "client_0d11ad94794c4cf1bdfa2674778377e7 = ibm_boto3.client(service_name='s3',\n",
    "    ibm_api_key_id='ISMIBM4FfhZgay4uVNhUVZ-gRtt41CvCQSgCcEMAc3Vj',\n",
    "    ibm_auth_endpoint=\"https://iam.bluemix.net/oidc/token\",\n",
    "    config=Config(signature_version='oauth'),\n",
    "    endpoint_url='https://s3.eu-geo.objectstorage.service.networklayer.com')\n",
    "\n",
    "body = client_0d11ad94794c4cf1bdfa2674778377e7.get_object(Bucket='weatherforecastui-donotdelete-pr-cpvlq8vrjpr8eo',Key='weather.csv')['Body']\n",
    "# add missing __iter__ method, so pandas accepts body as file-like object\n",
    "if not hasattr(body, \"__iter__\"): body.__iter__ = types.MethodType( __iter__, body )\n",
    "\n",
    "dataset = pd.read_csv(body)\n",
    "dataset.head()\n",
    "\n"
   ]
  },
  {
   "cell_type": "code",
   "execution_count": 3,
   "metadata": {
    "scrolled": true
   },
   "outputs": [
    {
     "data": {
      "text/html": [
       "<div>\n",
       "<style scoped>\n",
       "    .dataframe tbody tr th:only-of-type {\n",
       "        vertical-align: middle;\n",
       "    }\n",
       "\n",
       "    .dataframe tbody tr th {\n",
       "        vertical-align: top;\n",
       "    }\n",
       "\n",
       "    .dataframe thead th {\n",
       "        text-align: right;\n",
       "    }\n",
       "</style>\n",
       "<table border=\"1\" class=\"dataframe\">\n",
       "  <thead>\n",
       "    <tr style=\"text-align: right;\">\n",
       "      <th></th>\n",
       "      <th>Rainfall</th>\n",
       "      <th>Evaporation</th>\n",
       "      <th>WindGustDir</th>\n",
       "      <th>WindGustSpeed</th>\n",
       "      <th>WindSpeed3pm</th>\n",
       "      <th>Humidity3pm</th>\n",
       "      <th>Pressure3pm</th>\n",
       "      <th>Cloud3pm</th>\n",
       "      <th>RainToday</th>\n",
       "      <th>RISK_MM</th>\n",
       "      <th>RainTomorrow</th>\n",
       "    </tr>\n",
       "  </thead>\n",
       "  <tbody>\n",
       "    <tr>\n",
       "      <th>0</th>\n",
       "      <td>0.0</td>\n",
       "      <td>3.4</td>\n",
       "      <td>NW</td>\n",
       "      <td>30.0</td>\n",
       "      <td>20</td>\n",
       "      <td>29</td>\n",
       "      <td>1015.0</td>\n",
       "      <td>7</td>\n",
       "      <td>No</td>\n",
       "      <td>3.6</td>\n",
       "      <td>Yes</td>\n",
       "    </tr>\n",
       "    <tr>\n",
       "      <th>1</th>\n",
       "      <td>3.6</td>\n",
       "      <td>4.4</td>\n",
       "      <td>ENE</td>\n",
       "      <td>39.0</td>\n",
       "      <td>17</td>\n",
       "      <td>36</td>\n",
       "      <td>1008.4</td>\n",
       "      <td>3</td>\n",
       "      <td>Yes</td>\n",
       "      <td>3.6</td>\n",
       "      <td>Yes</td>\n",
       "    </tr>\n",
       "    <tr>\n",
       "      <th>2</th>\n",
       "      <td>3.6</td>\n",
       "      <td>5.8</td>\n",
       "      <td>NW</td>\n",
       "      <td>85.0</td>\n",
       "      <td>6</td>\n",
       "      <td>69</td>\n",
       "      <td>1007.2</td>\n",
       "      <td>7</td>\n",
       "      <td>Yes</td>\n",
       "      <td>39.8</td>\n",
       "      <td>Yes</td>\n",
       "    </tr>\n",
       "    <tr>\n",
       "      <th>3</th>\n",
       "      <td>39.8</td>\n",
       "      <td>7.2</td>\n",
       "      <td>NW</td>\n",
       "      <td>54.0</td>\n",
       "      <td>24</td>\n",
       "      <td>56</td>\n",
       "      <td>1007.0</td>\n",
       "      <td>7</td>\n",
       "      <td>Yes</td>\n",
       "      <td>2.8</td>\n",
       "      <td>Yes</td>\n",
       "    </tr>\n",
       "    <tr>\n",
       "      <th>4</th>\n",
       "      <td>2.8</td>\n",
       "      <td>5.6</td>\n",
       "      <td>SSE</td>\n",
       "      <td>50.0</td>\n",
       "      <td>28</td>\n",
       "      <td>49</td>\n",
       "      <td>1018.5</td>\n",
       "      <td>7</td>\n",
       "      <td>Yes</td>\n",
       "      <td>0.0</td>\n",
       "      <td>No</td>\n",
       "    </tr>\n",
       "    <tr>\n",
       "      <th>5</th>\n",
       "      <td>0.0</td>\n",
       "      <td>5.8</td>\n",
       "      <td>SE</td>\n",
       "      <td>44.0</td>\n",
       "      <td>24</td>\n",
       "      <td>57</td>\n",
       "      <td>1021.7</td>\n",
       "      <td>5</td>\n",
       "      <td>No</td>\n",
       "      <td>0.2</td>\n",
       "      <td>No</td>\n",
       "    </tr>\n",
       "    <tr>\n",
       "      <th>6</th>\n",
       "      <td>0.2</td>\n",
       "      <td>4.2</td>\n",
       "      <td>SE</td>\n",
       "      <td>43.0</td>\n",
       "      <td>26</td>\n",
       "      <td>47</td>\n",
       "      <td>1022.2</td>\n",
       "      <td>6</td>\n",
       "      <td>No</td>\n",
       "      <td>0.0</td>\n",
       "      <td>No</td>\n",
       "    </tr>\n",
       "    <tr>\n",
       "      <th>7</th>\n",
       "      <td>0.0</td>\n",
       "      <td>5.6</td>\n",
       "      <td>E</td>\n",
       "      <td>41.0</td>\n",
       "      <td>24</td>\n",
       "      <td>57</td>\n",
       "      <td>1024.2</td>\n",
       "      <td>7</td>\n",
       "      <td>No</td>\n",
       "      <td>0.0</td>\n",
       "      <td>No</td>\n",
       "    </tr>\n",
       "    <tr>\n",
       "      <th>8</th>\n",
       "      <td>0.0</td>\n",
       "      <td>4.0</td>\n",
       "      <td>S</td>\n",
       "      <td>48.0</td>\n",
       "      <td>17</td>\n",
       "      <td>48</td>\n",
       "      <td>1022.7</td>\n",
       "      <td>7</td>\n",
       "      <td>No</td>\n",
       "      <td>16.2</td>\n",
       "      <td>Yes</td>\n",
       "    </tr>\n",
       "    <tr>\n",
       "      <th>9</th>\n",
       "      <td>16.2</td>\n",
       "      <td>5.4</td>\n",
       "      <td>E</td>\n",
       "      <td>31.0</td>\n",
       "      <td>6</td>\n",
       "      <td>32</td>\n",
       "      <td>1020.7</td>\n",
       "      <td>1</td>\n",
       "      <td>Yes</td>\n",
       "      <td>0.0</td>\n",
       "      <td>No</td>\n",
       "    </tr>\n",
       "    <tr>\n",
       "      <th>10</th>\n",
       "      <td>0.0</td>\n",
       "      <td>4.2</td>\n",
       "      <td>N</td>\n",
       "      <td>30.0</td>\n",
       "      <td>9</td>\n",
       "      <td>34</td>\n",
       "      <td>1021.1</td>\n",
       "      <td>2</td>\n",
       "      <td>No</td>\n",
       "      <td>0.2</td>\n",
       "      <td>No</td>\n",
       "    </tr>\n",
       "    <tr>\n",
       "      <th>11</th>\n",
       "      <td>0.2</td>\n",
       "      <td>7.2</td>\n",
       "      <td>E</td>\n",
       "      <td>41.0</td>\n",
       "      <td>15</td>\n",
       "      <td>35</td>\n",
       "      <td>1019.9</td>\n",
       "      <td>3</td>\n",
       "      <td>No</td>\n",
       "      <td>0.0</td>\n",
       "      <td>No</td>\n",
       "    </tr>\n",
       "    <tr>\n",
       "      <th>12</th>\n",
       "      <td>0.0</td>\n",
       "      <td>7.2</td>\n",
       "      <td>WNW</td>\n",
       "      <td>30.0</td>\n",
       "      <td>7</td>\n",
       "      <td>29</td>\n",
       "      <td>1017.1</td>\n",
       "      <td>1</td>\n",
       "      <td>No</td>\n",
       "      <td>0.0</td>\n",
       "      <td>No</td>\n",
       "    </tr>\n",
       "    <tr>\n",
       "      <th>13</th>\n",
       "      <td>0.0</td>\n",
       "      <td>6.2</td>\n",
       "      <td>NW</td>\n",
       "      <td>44.0</td>\n",
       "      <td>20</td>\n",
       "      <td>20</td>\n",
       "      <td>1013.1</td>\n",
       "      <td>4</td>\n",
       "      <td>No</td>\n",
       "      <td>0.0</td>\n",
       "      <td>No</td>\n",
       "    </tr>\n",
       "    <tr>\n",
       "      <th>14</th>\n",
       "      <td>0.0</td>\n",
       "      <td>8.8</td>\n",
       "      <td>NW</td>\n",
       "      <td>41.0</td>\n",
       "      <td>20</td>\n",
       "      <td>16</td>\n",
       "      <td>1013.7</td>\n",
       "      <td>1</td>\n",
       "      <td>No</td>\n",
       "      <td>0.0</td>\n",
       "      <td>No</td>\n",
       "    </tr>\n",
       "    <tr>\n",
       "      <th>15</th>\n",
       "      <td>0.0</td>\n",
       "      <td>8.4</td>\n",
       "      <td>E</td>\n",
       "      <td>46.0</td>\n",
       "      <td>9</td>\n",
       "      <td>22</td>\n",
       "      <td>1012.8</td>\n",
       "      <td>3</td>\n",
       "      <td>No</td>\n",
       "      <td>0.0</td>\n",
       "      <td>No</td>\n",
       "    </tr>\n",
       "    <tr>\n",
       "      <th>16</th>\n",
       "      <td>0.0</td>\n",
       "      <td>7.2</td>\n",
       "      <td>ESE</td>\n",
       "      <td>44.0</td>\n",
       "      <td>19</td>\n",
       "      <td>23</td>\n",
       "      <td>1009.8</td>\n",
       "      <td>6</td>\n",
       "      <td>No</td>\n",
       "      <td>1.2</td>\n",
       "      <td>Yes</td>\n",
       "    </tr>\n",
       "    <tr>\n",
       "      <th>17</th>\n",
       "      <td>1.2</td>\n",
       "      <td>7.2</td>\n",
       "      <td>S</td>\n",
       "      <td>52.0</td>\n",
       "      <td>11</td>\n",
       "      <td>26</td>\n",
       "      <td>1013.0</td>\n",
       "      <td>5</td>\n",
       "      <td>Yes</td>\n",
       "      <td>0.6</td>\n",
       "      <td>No</td>\n",
       "    </tr>\n",
       "    <tr>\n",
       "      <th>18</th>\n",
       "      <td>0.6</td>\n",
       "      <td>7.4</td>\n",
       "      <td>E</td>\n",
       "      <td>39.0</td>\n",
       "      <td>17</td>\n",
       "      <td>25</td>\n",
       "      <td>1013.3</td>\n",
       "      <td>3</td>\n",
       "      <td>No</td>\n",
       "      <td>0.0</td>\n",
       "      <td>No</td>\n",
       "    </tr>\n",
       "    <tr>\n",
       "      <th>19</th>\n",
       "      <td>0.0</td>\n",
       "      <td>8.0</td>\n",
       "      <td>NE</td>\n",
       "      <td>33.0</td>\n",
       "      <td>13</td>\n",
       "      <td>27</td>\n",
       "      <td>1013.7</td>\n",
       "      <td>1</td>\n",
       "      <td>No</td>\n",
       "      <td>0.0</td>\n",
       "      <td>No</td>\n",
       "    </tr>\n",
       "    <tr>\n",
       "      <th>20</th>\n",
       "      <td>0.0</td>\n",
       "      <td>8.8</td>\n",
       "      <td>WNW</td>\n",
       "      <td>59.0</td>\n",
       "      <td>31</td>\n",
       "      <td>26</td>\n",
       "      <td>1006.5</td>\n",
       "      <td>5</td>\n",
       "      <td>No</td>\n",
       "      <td>0.4</td>\n",
       "      <td>No</td>\n",
       "    </tr>\n",
       "    <tr>\n",
       "      <th>21</th>\n",
       "      <td>0.4</td>\n",
       "      <td>9.2</td>\n",
       "      <td>E</td>\n",
       "      <td>26.0</td>\n",
       "      <td>11</td>\n",
       "      <td>72</td>\n",
       "      <td>1008.9</td>\n",
       "      <td>8</td>\n",
       "      <td>No</td>\n",
       "      <td>25.8</td>\n",
       "      <td>Yes</td>\n",
       "    </tr>\n",
       "    <tr>\n",
       "      <th>22</th>\n",
       "      <td>25.8</td>\n",
       "      <td>2.8</td>\n",
       "      <td>ESE</td>\n",
       "      <td>28.0</td>\n",
       "      <td>13</td>\n",
       "      <td>79</td>\n",
       "      <td>1014.9</td>\n",
       "      <td>8</td>\n",
       "      <td>Yes</td>\n",
       "      <td>0.4</td>\n",
       "      <td>No</td>\n",
       "    </tr>\n",
       "    <tr>\n",
       "      <th>23</th>\n",
       "      <td>0.4</td>\n",
       "      <td>1.2</td>\n",
       "      <td>NNE</td>\n",
       "      <td>26.0</td>\n",
       "      <td>9</td>\n",
       "      <td>57</td>\n",
       "      <td>1019.2</td>\n",
       "      <td>5</td>\n",
       "      <td>No</td>\n",
       "      <td>0.0</td>\n",
       "      <td>No</td>\n",
       "    </tr>\n",
       "    <tr>\n",
       "      <th>24</th>\n",
       "      <td>0.0</td>\n",
       "      <td>4.4</td>\n",
       "      <td>ENE</td>\n",
       "      <td>33.0</td>\n",
       "      <td>15</td>\n",
       "      <td>31</td>\n",
       "      <td>1018.6</td>\n",
       "      <td>2</td>\n",
       "      <td>No</td>\n",
       "      <td>0.0</td>\n",
       "      <td>No</td>\n",
       "    </tr>\n",
       "    <tr>\n",
       "      <th>25</th>\n",
       "      <td>0.0</td>\n",
       "      <td>6.8</td>\n",
       "      <td>E</td>\n",
       "      <td>41.0</td>\n",
       "      <td>22</td>\n",
       "      <td>48</td>\n",
       "      <td>1016.5</td>\n",
       "      <td>4</td>\n",
       "      <td>No</td>\n",
       "      <td>0.2</td>\n",
       "      <td>No</td>\n",
       "    </tr>\n",
       "    <tr>\n",
       "      <th>26</th>\n",
       "      <td>0.2</td>\n",
       "      <td>6.6</td>\n",
       "      <td>ENE</td>\n",
       "      <td>39.0</td>\n",
       "      <td>17</td>\n",
       "      <td>55</td>\n",
       "      <td>1018.6</td>\n",
       "      <td>7</td>\n",
       "      <td>No</td>\n",
       "      <td>0.0</td>\n",
       "      <td>No</td>\n",
       "    </tr>\n",
       "    <tr>\n",
       "      <th>27</th>\n",
       "      <td>0.0</td>\n",
       "      <td>4.4</td>\n",
       "      <td>S</td>\n",
       "      <td>52.0</td>\n",
       "      <td>11</td>\n",
       "      <td>31</td>\n",
       "      <td>1014.8</td>\n",
       "      <td>7</td>\n",
       "      <td>No</td>\n",
       "      <td>0.0</td>\n",
       "      <td>No</td>\n",
       "    </tr>\n",
       "    <tr>\n",
       "      <th>28</th>\n",
       "      <td>0.0</td>\n",
       "      <td>7.0</td>\n",
       "      <td>SE</td>\n",
       "      <td>39.0</td>\n",
       "      <td>17</td>\n",
       "      <td>80</td>\n",
       "      <td>1017.1</td>\n",
       "      <td>7</td>\n",
       "      <td>No</td>\n",
       "      <td>0.4</td>\n",
       "      <td>No</td>\n",
       "    </tr>\n",
       "    <tr>\n",
       "      <th>29</th>\n",
       "      <td>0.4</td>\n",
       "      <td>2.6</td>\n",
       "      <td>NNW</td>\n",
       "      <td>30.0</td>\n",
       "      <td>6</td>\n",
       "      <td>49</td>\n",
       "      <td>1013.3</td>\n",
       "      <td>7</td>\n",
       "      <td>No</td>\n",
       "      <td>22.6</td>\n",
       "      <td>Yes</td>\n",
       "    </tr>\n",
       "    <tr>\n",
       "      <th>...</th>\n",
       "      <td>...</td>\n",
       "      <td>...</td>\n",
       "      <td>...</td>\n",
       "      <td>...</td>\n",
       "      <td>...</td>\n",
       "      <td>...</td>\n",
       "      <td>...</td>\n",
       "      <td>...</td>\n",
       "      <td>...</td>\n",
       "      <td>...</td>\n",
       "      <td>...</td>\n",
       "    </tr>\n",
       "    <tr>\n",
       "      <th>336</th>\n",
       "      <td>0.0</td>\n",
       "      <td>5.2</td>\n",
       "      <td>NW</td>\n",
       "      <td>46.0</td>\n",
       "      <td>28</td>\n",
       "      <td>21</td>\n",
       "      <td>1014.1</td>\n",
       "      <td>0</td>\n",
       "      <td>No</td>\n",
       "      <td>0.0</td>\n",
       "      <td>No</td>\n",
       "    </tr>\n",
       "    <tr>\n",
       "      <th>337</th>\n",
       "      <td>0.0</td>\n",
       "      <td>10.0</td>\n",
       "      <td>NNW</td>\n",
       "      <td>70.0</td>\n",
       "      <td>41</td>\n",
       "      <td>22</td>\n",
       "      <td>1011.8</td>\n",
       "      <td>1</td>\n",
       "      <td>No</td>\n",
       "      <td>7.6</td>\n",
       "      <td>Yes</td>\n",
       "    </tr>\n",
       "    <tr>\n",
       "      <th>338</th>\n",
       "      <td>7.6</td>\n",
       "      <td>9.4</td>\n",
       "      <td>NNW</td>\n",
       "      <td>33.0</td>\n",
       "      <td>19</td>\n",
       "      <td>65</td>\n",
       "      <td>1013.2</td>\n",
       "      <td>4</td>\n",
       "      <td>Yes</td>\n",
       "      <td>3.0</td>\n",
       "      <td>Yes</td>\n",
       "    </tr>\n",
       "    <tr>\n",
       "      <th>339</th>\n",
       "      <td>3.0</td>\n",
       "      <td>4.2</td>\n",
       "      <td>NNW</td>\n",
       "      <td>43.0</td>\n",
       "      <td>19</td>\n",
       "      <td>46</td>\n",
       "      <td>1013.6</td>\n",
       "      <td>1</td>\n",
       "      <td>Yes</td>\n",
       "      <td>0.0</td>\n",
       "      <td>No</td>\n",
       "    </tr>\n",
       "    <tr>\n",
       "      <th>340</th>\n",
       "      <td>0.0</td>\n",
       "      <td>4.8</td>\n",
       "      <td>W</td>\n",
       "      <td>65.0</td>\n",
       "      <td>33</td>\n",
       "      <td>40</td>\n",
       "      <td>1005.3</td>\n",
       "      <td>4</td>\n",
       "      <td>No</td>\n",
       "      <td>8.2</td>\n",
       "      <td>Yes</td>\n",
       "    </tr>\n",
       "    <tr>\n",
       "      <th>341</th>\n",
       "      <td>8.2</td>\n",
       "      <td>5.4</td>\n",
       "      <td>NW</td>\n",
       "      <td>57.0</td>\n",
       "      <td>28</td>\n",
       "      <td>45</td>\n",
       "      <td>1013.3</td>\n",
       "      <td>1</td>\n",
       "      <td>Yes</td>\n",
       "      <td>0.0</td>\n",
       "      <td>No</td>\n",
       "    </tr>\n",
       "    <tr>\n",
       "      <th>342</th>\n",
       "      <td>0.0</td>\n",
       "      <td>5.8</td>\n",
       "      <td>N</td>\n",
       "      <td>44.0</td>\n",
       "      <td>26</td>\n",
       "      <td>33</td>\n",
       "      <td>1017.5</td>\n",
       "      <td>1</td>\n",
       "      <td>No</td>\n",
       "      <td>0.0</td>\n",
       "      <td>No</td>\n",
       "    </tr>\n",
       "    <tr>\n",
       "      <th>343</th>\n",
       "      <td>0.0</td>\n",
       "      <td>6.2</td>\n",
       "      <td>NNW</td>\n",
       "      <td>31.0</td>\n",
       "      <td>9</td>\n",
       "      <td>22</td>\n",
       "      <td>1024.2</td>\n",
       "      <td>1</td>\n",
       "      <td>No</td>\n",
       "      <td>0.0</td>\n",
       "      <td>No</td>\n",
       "    </tr>\n",
       "    <tr>\n",
       "      <th>344</th>\n",
       "      <td>0.0</td>\n",
       "      <td>4.4</td>\n",
       "      <td>N</td>\n",
       "      <td>41.0</td>\n",
       "      <td>19</td>\n",
       "      <td>25</td>\n",
       "      <td>1024.9</td>\n",
       "      <td>2</td>\n",
       "      <td>No</td>\n",
       "      <td>0.0</td>\n",
       "      <td>No</td>\n",
       "    </tr>\n",
       "    <tr>\n",
       "      <th>345</th>\n",
       "      <td>0.0</td>\n",
       "      <td>5.4</td>\n",
       "      <td>NW</td>\n",
       "      <td>31.0</td>\n",
       "      <td>17</td>\n",
       "      <td>30</td>\n",
       "      <td>1023.8</td>\n",
       "      <td>3</td>\n",
       "      <td>No</td>\n",
       "      <td>0.0</td>\n",
       "      <td>No</td>\n",
       "    </tr>\n",
       "    <tr>\n",
       "      <th>346</th>\n",
       "      <td>0.0</td>\n",
       "      <td>4.8</td>\n",
       "      <td>NW</td>\n",
       "      <td>30.0</td>\n",
       "      <td>11</td>\n",
       "      <td>27</td>\n",
       "      <td>1021.5</td>\n",
       "      <td>4</td>\n",
       "      <td>No</td>\n",
       "      <td>0.0</td>\n",
       "      <td>No</td>\n",
       "    </tr>\n",
       "    <tr>\n",
       "      <th>347</th>\n",
       "      <td>0.0</td>\n",
       "      <td>6.2</td>\n",
       "      <td>SSW</td>\n",
       "      <td>70.0</td>\n",
       "      <td>33</td>\n",
       "      <td>47</td>\n",
       "      <td>1016.0</td>\n",
       "      <td>7</td>\n",
       "      <td>No</td>\n",
       "      <td>13.2</td>\n",
       "      <td>Yes</td>\n",
       "    </tr>\n",
       "    <tr>\n",
       "      <th>348</th>\n",
       "      <td>13.2</td>\n",
       "      <td>6.6</td>\n",
       "      <td>NW</td>\n",
       "      <td>41.0</td>\n",
       "      <td>24</td>\n",
       "      <td>61</td>\n",
       "      <td>1016.7</td>\n",
       "      <td>3</td>\n",
       "      <td>Yes</td>\n",
       "      <td>0.6</td>\n",
       "      <td>No</td>\n",
       "    </tr>\n",
       "    <tr>\n",
       "      <th>349</th>\n",
       "      <td>0.6</td>\n",
       "      <td>3.4</td>\n",
       "      <td>ENE</td>\n",
       "      <td>31.0</td>\n",
       "      <td>7</td>\n",
       "      <td>42</td>\n",
       "      <td>1019.7</td>\n",
       "      <td>4</td>\n",
       "      <td>No</td>\n",
       "      <td>0.0</td>\n",
       "      <td>No</td>\n",
       "    </tr>\n",
       "    <tr>\n",
       "      <th>350</th>\n",
       "      <td>0.0</td>\n",
       "      <td>4.2</td>\n",
       "      <td>NW</td>\n",
       "      <td>28.0</td>\n",
       "      <td>9</td>\n",
       "      <td>30</td>\n",
       "      <td>1022.3</td>\n",
       "      <td>1</td>\n",
       "      <td>No</td>\n",
       "      <td>0.0</td>\n",
       "      <td>No</td>\n",
       "    </tr>\n",
       "    <tr>\n",
       "      <th>351</th>\n",
       "      <td>0.0</td>\n",
       "      <td>6.2</td>\n",
       "      <td>NNW</td>\n",
       "      <td>52.0</td>\n",
       "      <td>26</td>\n",
       "      <td>34</td>\n",
       "      <td>1020.7</td>\n",
       "      <td>1</td>\n",
       "      <td>No</td>\n",
       "      <td>0.0</td>\n",
       "      <td>No</td>\n",
       "    </tr>\n",
       "    <tr>\n",
       "      <th>352</th>\n",
       "      <td>0.0</td>\n",
       "      <td>5.4</td>\n",
       "      <td>NW</td>\n",
       "      <td>43.0</td>\n",
       "      <td>20</td>\n",
       "      <td>31</td>\n",
       "      <td>1022.2</td>\n",
       "      <td>7</td>\n",
       "      <td>No</td>\n",
       "      <td>0.0</td>\n",
       "      <td>No</td>\n",
       "    </tr>\n",
       "    <tr>\n",
       "      <th>353</th>\n",
       "      <td>0.0</td>\n",
       "      <td>5.8</td>\n",
       "      <td>NW</td>\n",
       "      <td>46.0</td>\n",
       "      <td>26</td>\n",
       "      <td>30</td>\n",
       "      <td>1019.8</td>\n",
       "      <td>6</td>\n",
       "      <td>No</td>\n",
       "      <td>0.2</td>\n",
       "      <td>No</td>\n",
       "    </tr>\n",
       "    <tr>\n",
       "      <th>354</th>\n",
       "      <td>0.2</td>\n",
       "      <td>7.6</td>\n",
       "      <td>NW</td>\n",
       "      <td>52.0</td>\n",
       "      <td>31</td>\n",
       "      <td>20</td>\n",
       "      <td>1017.5</td>\n",
       "      <td>1</td>\n",
       "      <td>No</td>\n",
       "      <td>0.0</td>\n",
       "      <td>No</td>\n",
       "    </tr>\n",
       "    <tr>\n",
       "      <th>355</th>\n",
       "      <td>0.0</td>\n",
       "      <td>9.0</td>\n",
       "      <td>ENE</td>\n",
       "      <td>39.0</td>\n",
       "      <td>11</td>\n",
       "      <td>28</td>\n",
       "      <td>1018.6</td>\n",
       "      <td>5</td>\n",
       "      <td>No</td>\n",
       "      <td>0.8</td>\n",
       "      <td>No</td>\n",
       "    </tr>\n",
       "    <tr>\n",
       "      <th>356</th>\n",
       "      <td>0.8</td>\n",
       "      <td>4.8</td>\n",
       "      <td>S</td>\n",
       "      <td>70.0</td>\n",
       "      <td>37</td>\n",
       "      <td>24</td>\n",
       "      <td>1023.1</td>\n",
       "      <td>5</td>\n",
       "      <td>No</td>\n",
       "      <td>0.0</td>\n",
       "      <td>No</td>\n",
       "    </tr>\n",
       "    <tr>\n",
       "      <th>357</th>\n",
       "      <td>0.0</td>\n",
       "      <td>7.4</td>\n",
       "      <td>SSE</td>\n",
       "      <td>48.0</td>\n",
       "      <td>15</td>\n",
       "      <td>25</td>\n",
       "      <td>1022.8</td>\n",
       "      <td>2</td>\n",
       "      <td>No</td>\n",
       "      <td>0.0</td>\n",
       "      <td>No</td>\n",
       "    </tr>\n",
       "    <tr>\n",
       "      <th>358</th>\n",
       "      <td>0.0</td>\n",
       "      <td>5.4</td>\n",
       "      <td>NNW</td>\n",
       "      <td>39.0</td>\n",
       "      <td>17</td>\n",
       "      <td>29</td>\n",
       "      <td>1018.4</td>\n",
       "      <td>8</td>\n",
       "      <td>No</td>\n",
       "      <td>0.0</td>\n",
       "      <td>No</td>\n",
       "    </tr>\n",
       "    <tr>\n",
       "      <th>359</th>\n",
       "      <td>0.0</td>\n",
       "      <td>5.2</td>\n",
       "      <td>N</td>\n",
       "      <td>43.0</td>\n",
       "      <td>19</td>\n",
       "      <td>16</td>\n",
       "      <td>1014.6</td>\n",
       "      <td>3</td>\n",
       "      <td>No</td>\n",
       "      <td>0.0</td>\n",
       "      <td>No</td>\n",
       "    </tr>\n",
       "    <tr>\n",
       "      <th>360</th>\n",
       "      <td>0.0</td>\n",
       "      <td>6.8</td>\n",
       "      <td>NNW</td>\n",
       "      <td>43.0</td>\n",
       "      <td>19</td>\n",
       "      <td>20</td>\n",
       "      <td>1014.2</td>\n",
       "      <td>8</td>\n",
       "      <td>No</td>\n",
       "      <td>0.0</td>\n",
       "      <td>No</td>\n",
       "    </tr>\n",
       "    <tr>\n",
       "      <th>361</th>\n",
       "      <td>0.0</td>\n",
       "      <td>7.6</td>\n",
       "      <td>NNW</td>\n",
       "      <td>76.0</td>\n",
       "      <td>50</td>\n",
       "      <td>15</td>\n",
       "      <td>1010.8</td>\n",
       "      <td>3</td>\n",
       "      <td>No</td>\n",
       "      <td>0.0</td>\n",
       "      <td>No</td>\n",
       "    </tr>\n",
       "    <tr>\n",
       "      <th>362</th>\n",
       "      <td>0.0</td>\n",
       "      <td>11.6</td>\n",
       "      <td>N</td>\n",
       "      <td>48.0</td>\n",
       "      <td>19</td>\n",
       "      <td>22</td>\n",
       "      <td>1016.9</td>\n",
       "      <td>1</td>\n",
       "      <td>No</td>\n",
       "      <td>0.0</td>\n",
       "      <td>No</td>\n",
       "    </tr>\n",
       "    <tr>\n",
       "      <th>363</th>\n",
       "      <td>0.0</td>\n",
       "      <td>8.4</td>\n",
       "      <td>ESE</td>\n",
       "      <td>43.0</td>\n",
       "      <td>9</td>\n",
       "      <td>47</td>\n",
       "      <td>1022.8</td>\n",
       "      <td>2</td>\n",
       "      <td>No</td>\n",
       "      <td>0.0</td>\n",
       "      <td>No</td>\n",
       "    </tr>\n",
       "    <tr>\n",
       "      <th>364</th>\n",
       "      <td>0.0</td>\n",
       "      <td>5.0</td>\n",
       "      <td>NW</td>\n",
       "      <td>46.0</td>\n",
       "      <td>28</td>\n",
       "      <td>39</td>\n",
       "      <td>1016.2</td>\n",
       "      <td>7</td>\n",
       "      <td>No</td>\n",
       "      <td>0.0</td>\n",
       "      <td>No</td>\n",
       "    </tr>\n",
       "    <tr>\n",
       "      <th>365</th>\n",
       "      <td>0.0</td>\n",
       "      <td>6.0</td>\n",
       "      <td>NW</td>\n",
       "      <td>78.0</td>\n",
       "      <td>35</td>\n",
       "      <td>13</td>\n",
       "      <td>1009.2</td>\n",
       "      <td>1</td>\n",
       "      <td>No</td>\n",
       "      <td>0.0</td>\n",
       "      <td>No</td>\n",
       "    </tr>\n",
       "  </tbody>\n",
       "</table>\n",
       "<p>366 rows × 11 columns</p>\n",
       "</div>"
      ],
      "text/plain": [
       "     Rainfall  Evaporation WindGustDir  WindGustSpeed  WindSpeed3pm  \\\n",
       "0         0.0          3.4          NW           30.0            20   \n",
       "1         3.6          4.4         ENE           39.0            17   \n",
       "2         3.6          5.8          NW           85.0             6   \n",
       "3        39.8          7.2          NW           54.0            24   \n",
       "4         2.8          5.6         SSE           50.0            28   \n",
       "5         0.0          5.8          SE           44.0            24   \n",
       "6         0.2          4.2          SE           43.0            26   \n",
       "7         0.0          5.6           E           41.0            24   \n",
       "8         0.0          4.0           S           48.0            17   \n",
       "9        16.2          5.4           E           31.0             6   \n",
       "10        0.0          4.2           N           30.0             9   \n",
       "11        0.2          7.2           E           41.0            15   \n",
       "12        0.0          7.2         WNW           30.0             7   \n",
       "13        0.0          6.2          NW           44.0            20   \n",
       "14        0.0          8.8          NW           41.0            20   \n",
       "15        0.0          8.4           E           46.0             9   \n",
       "16        0.0          7.2         ESE           44.0            19   \n",
       "17        1.2          7.2           S           52.0            11   \n",
       "18        0.6          7.4           E           39.0            17   \n",
       "19        0.0          8.0          NE           33.0            13   \n",
       "20        0.0          8.8         WNW           59.0            31   \n",
       "21        0.4          9.2           E           26.0            11   \n",
       "22       25.8          2.8         ESE           28.0            13   \n",
       "23        0.4          1.2         NNE           26.0             9   \n",
       "24        0.0          4.4         ENE           33.0            15   \n",
       "25        0.0          6.8           E           41.0            22   \n",
       "26        0.2          6.6         ENE           39.0            17   \n",
       "27        0.0          4.4           S           52.0            11   \n",
       "28        0.0          7.0          SE           39.0            17   \n",
       "29        0.4          2.6         NNW           30.0             6   \n",
       "..        ...          ...         ...            ...           ...   \n",
       "336       0.0          5.2          NW           46.0            28   \n",
       "337       0.0         10.0         NNW           70.0            41   \n",
       "338       7.6          9.4         NNW           33.0            19   \n",
       "339       3.0          4.2         NNW           43.0            19   \n",
       "340       0.0          4.8           W           65.0            33   \n",
       "341       8.2          5.4          NW           57.0            28   \n",
       "342       0.0          5.8           N           44.0            26   \n",
       "343       0.0          6.2         NNW           31.0             9   \n",
       "344       0.0          4.4           N           41.0            19   \n",
       "345       0.0          5.4          NW           31.0            17   \n",
       "346       0.0          4.8          NW           30.0            11   \n",
       "347       0.0          6.2         SSW           70.0            33   \n",
       "348      13.2          6.6          NW           41.0            24   \n",
       "349       0.6          3.4         ENE           31.0             7   \n",
       "350       0.0          4.2          NW           28.0             9   \n",
       "351       0.0          6.2         NNW           52.0            26   \n",
       "352       0.0          5.4          NW           43.0            20   \n",
       "353       0.0          5.8          NW           46.0            26   \n",
       "354       0.2          7.6          NW           52.0            31   \n",
       "355       0.0          9.0         ENE           39.0            11   \n",
       "356       0.8          4.8           S           70.0            37   \n",
       "357       0.0          7.4         SSE           48.0            15   \n",
       "358       0.0          5.4         NNW           39.0            17   \n",
       "359       0.0          5.2           N           43.0            19   \n",
       "360       0.0          6.8         NNW           43.0            19   \n",
       "361       0.0          7.6         NNW           76.0            50   \n",
       "362       0.0         11.6           N           48.0            19   \n",
       "363       0.0          8.4         ESE           43.0             9   \n",
       "364       0.0          5.0          NW           46.0            28   \n",
       "365       0.0          6.0          NW           78.0            35   \n",
       "\n",
       "     Humidity3pm  Pressure3pm  Cloud3pm RainToday  RISK_MM RainTomorrow  \n",
       "0             29       1015.0         7        No      3.6          Yes  \n",
       "1             36       1008.4         3       Yes      3.6          Yes  \n",
       "2             69       1007.2         7       Yes     39.8          Yes  \n",
       "3             56       1007.0         7       Yes      2.8          Yes  \n",
       "4             49       1018.5         7       Yes      0.0           No  \n",
       "5             57       1021.7         5        No      0.2           No  \n",
       "6             47       1022.2         6        No      0.0           No  \n",
       "7             57       1024.2         7        No      0.0           No  \n",
       "8             48       1022.7         7        No     16.2          Yes  \n",
       "9             32       1020.7         1       Yes      0.0           No  \n",
       "10            34       1021.1         2        No      0.2           No  \n",
       "11            35       1019.9         3        No      0.0           No  \n",
       "12            29       1017.1         1        No      0.0           No  \n",
       "13            20       1013.1         4        No      0.0           No  \n",
       "14            16       1013.7         1        No      0.0           No  \n",
       "15            22       1012.8         3        No      0.0           No  \n",
       "16            23       1009.8         6        No      1.2          Yes  \n",
       "17            26       1013.0         5       Yes      0.6           No  \n",
       "18            25       1013.3         3        No      0.0           No  \n",
       "19            27       1013.7         1        No      0.0           No  \n",
       "20            26       1006.5         5        No      0.4           No  \n",
       "21            72       1008.9         8        No     25.8          Yes  \n",
       "22            79       1014.9         8       Yes      0.4           No  \n",
       "23            57       1019.2         5        No      0.0           No  \n",
       "24            31       1018.6         2        No      0.0           No  \n",
       "25            48       1016.5         4        No      0.2           No  \n",
       "26            55       1018.6         7        No      0.0           No  \n",
       "27            31       1014.8         7        No      0.0           No  \n",
       "28            80       1017.1         7        No      0.4           No  \n",
       "29            49       1013.3         7        No     22.6          Yes  \n",
       "..           ...          ...       ...       ...      ...          ...  \n",
       "336           21       1014.1         0        No      0.0           No  \n",
       "337           22       1011.8         1        No      7.6          Yes  \n",
       "338           65       1013.2         4       Yes      3.0          Yes  \n",
       "339           46       1013.6         1       Yes      0.0           No  \n",
       "340           40       1005.3         4        No      8.2          Yes  \n",
       "341           45       1013.3         1       Yes      0.0           No  \n",
       "342           33       1017.5         1        No      0.0           No  \n",
       "343           22       1024.2         1        No      0.0           No  \n",
       "344           25       1024.9         2        No      0.0           No  \n",
       "345           30       1023.8         3        No      0.0           No  \n",
       "346           27       1021.5         4        No      0.0           No  \n",
       "347           47       1016.0         7        No     13.2          Yes  \n",
       "348           61       1016.7         3       Yes      0.6           No  \n",
       "349           42       1019.7         4        No      0.0           No  \n",
       "350           30       1022.3         1        No      0.0           No  \n",
       "351           34       1020.7         1        No      0.0           No  \n",
       "352           31       1022.2         7        No      0.0           No  \n",
       "353           30       1019.8         6        No      0.2           No  \n",
       "354           20       1017.5         1        No      0.0           No  \n",
       "355           28       1018.6         5        No      0.8           No  \n",
       "356           24       1023.1         5        No      0.0           No  \n",
       "357           25       1022.8         2        No      0.0           No  \n",
       "358           29       1018.4         8        No      0.0           No  \n",
       "359           16       1014.6         3        No      0.0           No  \n",
       "360           20       1014.2         8        No      0.0           No  \n",
       "361           15       1010.8         3        No      0.0           No  \n",
       "362           22       1016.9         1        No      0.0           No  \n",
       "363           47       1022.8         2        No      0.0           No  \n",
       "364           39       1016.2         7        No      0.0           No  \n",
       "365           13       1009.2         1        No      0.0           No  \n",
       "\n",
       "[366 rows x 11 columns]"
      ]
     },
     "execution_count": 3,
     "metadata": {},
     "output_type": "execute_result"
    }
   ],
   "source": [
    "dataset"
   ]
  },
  {
   "cell_type": "code",
   "execution_count": 4,
   "metadata": {
    "scrolled": true
   },
   "outputs": [],
   "source": [
    "dataset=dataset.drop([\"WindGustDir\"],axis=1)"
   ]
  },
  {
   "cell_type": "code",
   "execution_count": 5,
   "metadata": {
    "scrolled": true
   },
   "outputs": [
    {
     "data": {
      "text/plain": [
       "Rainfall         False\n",
       "Evaporation      False\n",
       "WindGustSpeed     True\n",
       "WindSpeed3pm     False\n",
       "Humidity3pm      False\n",
       "Pressure3pm      False\n",
       "Cloud3pm         False\n",
       "RainToday        False\n",
       "RISK_MM          False\n",
       "RainTomorrow     False\n",
       "dtype: bool"
      ]
     },
     "execution_count": 5,
     "metadata": {},
     "output_type": "execute_result"
    }
   ],
   "source": [
    "dataset.isnull().any()"
   ]
  },
  {
   "cell_type": "code",
   "execution_count": 6,
   "metadata": {
    "scrolled": true
   },
   "outputs": [
    {
     "data": {
      "text/plain": [
       "Rainfall         False\n",
       "Evaporation      False\n",
       "WindGustSpeed     True\n",
       "WindSpeed3pm     False\n",
       "Humidity3pm      False\n",
       "Pressure3pm      False\n",
       "Cloud3pm         False\n",
       "RainToday        False\n",
       "RISK_MM          False\n",
       "RainTomorrow     False\n",
       "dtype: bool"
      ]
     },
     "execution_count": 6,
     "metadata": {},
     "output_type": "execute_result"
    }
   ],
   "source": [
    "dataset.isnull().any()"
   ]
  },
  {
   "cell_type": "code",
   "execution_count": 7,
   "metadata": {},
   "outputs": [],
   "source": [
    "dataset['WindGustSpeed'].fillna((dataset[\"WindGustSpeed\"].mean()),inplace=True)"
   ]
  },
  {
   "cell_type": "code",
   "execution_count": 8,
   "metadata": {},
   "outputs": [
    {
     "data": {
      "text/plain": [
       "Rainfall         False\n",
       "Evaporation      False\n",
       "WindGustSpeed    False\n",
       "WindSpeed3pm     False\n",
       "Humidity3pm      False\n",
       "Pressure3pm      False\n",
       "Cloud3pm         False\n",
       "RainToday        False\n",
       "RISK_MM          False\n",
       "RainTomorrow     False\n",
       "dtype: bool"
      ]
     },
     "execution_count": 8,
     "metadata": {},
     "output_type": "execute_result"
    }
   ],
   "source": [
    "dataset.isnull().any()\n"
   ]
  },
  {
   "cell_type": "code",
   "execution_count": 9,
   "metadata": {},
   "outputs": [],
   "source": [
    "x=dataset.iloc[:,0:9].values"
   ]
  },
  {
   "cell_type": "code",
   "execution_count": 10,
   "metadata": {},
   "outputs": [
    {
     "data": {
      "text/plain": [
       "array([[0.0, 3.4, 30.0, ..., 7, 'No', 3.6],\n",
       "       [3.6, 4.4, 39.0, ..., 3, 'Yes', 3.6],\n",
       "       [3.6, 5.8, 85.0, ..., 7, 'Yes', 39.8],\n",
       "       ..., \n",
       "       [0.0, 8.4, 43.0, ..., 2, 'No', 0.0],\n",
       "       [0.0, 5.0, 46.0, ..., 7, 'No', 0.0],\n",
       "       [0.0, 6.0, 78.0, ..., 1, 'No', 0.0]], dtype=object)"
      ]
     },
     "execution_count": 10,
     "metadata": {},
     "output_type": "execute_result"
    }
   ],
   "source": [
    "x"
   ]
  },
  {
   "cell_type": "code",
   "execution_count": 11,
   "metadata": {},
   "outputs": [
    {
     "data": {
      "text/plain": [
       "array(['Yes', 'Yes', 'Yes', 'Yes', 'No', 'No', 'No', 'No', 'Yes', 'No',\n",
       "       'No', 'No', 'No', 'No', 'No', 'No', 'Yes', 'No', 'No', 'No', 'No',\n",
       "       'Yes', 'No', 'No', 'No', 'No', 'No', 'No', 'No', 'Yes', 'Yes', 'No',\n",
       "       'Yes', 'No', 'No', 'No', 'Yes', 'No', 'No', 'No', 'No', 'No', 'No',\n",
       "       'No', 'Yes', 'Yes', 'No', 'No', 'Yes', 'Yes', 'Yes', 'Yes', 'No',\n",
       "       'Yes', 'No', 'No', 'Yes', 'No', 'No', 'No', 'No', 'No', 'No', 'No',\n",
       "       'No', 'No', 'No', 'No', 'No', 'No', 'No', 'No', 'Yes', 'No', 'No',\n",
       "       'No', 'Yes', 'No', 'Yes', 'Yes', 'No', 'No', 'No', 'No', 'No', 'No',\n",
       "       'No', 'No', 'No', 'No', 'Yes', 'Yes', 'No', 'No', 'Yes', 'Yes',\n",
       "       'No', 'No', 'Yes', 'No', 'No', 'No', 'Yes', 'Yes', 'No', 'No', 'No',\n",
       "       'No', 'No', 'No', 'No', 'Yes', 'Yes', 'No', 'No', 'No', 'No', 'No',\n",
       "       'No', 'Yes', 'No', 'No', 'No', 'No', 'No', 'No', 'No', 'Yes', 'No',\n",
       "       'No', 'No', 'No', 'No', 'No', 'No', 'No', 'No', 'No', 'No', 'No',\n",
       "       'No', 'No', 'No', 'No', 'Yes', 'Yes', 'No', 'No', 'No', 'No', 'No',\n",
       "       'No', 'No', 'Yes', 'No', 'No', 'No', 'No', 'No', 'No', 'No', 'No',\n",
       "       'No', 'Yes', 'Yes', 'No', 'No', 'No', 'No', 'No', 'No', 'No', 'No',\n",
       "       'No', 'No', 'No', 'No', 'No', 'Yes', 'No', 'No', 'No', 'No', 'No',\n",
       "       'No', 'No', 'No', 'No', 'No', 'No', 'No', 'No', 'No', 'No', 'No',\n",
       "       'No', 'Yes', 'No', 'No', 'No', 'No', 'No', 'No', 'No', 'No', 'No',\n",
       "       'Yes', 'Yes', 'No', 'No', 'No', 'No', 'No', 'No', 'No', 'Yes', 'No',\n",
       "       'No', 'No', 'No', 'No', 'Yes', 'Yes', 'No', 'No', 'No', 'No', 'No',\n",
       "       'No', 'No', 'No', 'Yes', 'No', 'No', 'No', 'No', 'No', 'No', 'No',\n",
       "       'No', 'No', 'No', 'Yes', 'No', 'No', 'No', 'No', 'No', 'No', 'Yes',\n",
       "       'No', 'No', 'Yes', 'No', 'No', 'No', 'No', 'No', 'No', 'No', 'Yes',\n",
       "       'No', 'Yes', 'No', 'No', 'No', 'No', 'No', 'No', 'Yes', 'No', 'No',\n",
       "       'No', 'No', 'Yes', 'No', 'No', 'No', 'Yes', 'No', 'Yes', 'No', 'No',\n",
       "       'No', 'No', 'No', 'No', 'No', 'No', 'No', 'No', 'No', 'No', 'No',\n",
       "       'No', 'No', 'No', 'No', 'No', 'No', 'No', 'No', 'No', 'Yes', 'Yes',\n",
       "       'No', 'No', 'No', 'No', 'No', 'No', 'No', 'No', 'No', 'No', 'No',\n",
       "       'No', 'Yes', 'Yes', 'Yes', 'No', 'No', 'No', 'No', 'No', 'No',\n",
       "       'Yes', 'No', 'No', 'No', 'No', 'No', 'No', 'No', 'No', 'No', 'No',\n",
       "       'Yes', 'Yes', 'No', 'Yes', 'No', 'No', 'No', 'No', 'No', 'No',\n",
       "       'Yes', 'No', 'No', 'No', 'No', 'No', 'No', 'No', 'No', 'No', 'No',\n",
       "       'No', 'No', 'No', 'No', 'No', 'No', 'No', 'No'], dtype=object)"
      ]
     },
     "execution_count": 11,
     "metadata": {},
     "output_type": "execute_result"
    }
   ],
   "source": [
    "y=dataset.iloc[:,9].values\n",
    "y"
   ]
  },
  {
   "cell_type": "code",
   "execution_count": 12,
   "metadata": {},
   "outputs": [],
   "source": [
    "from sklearn.preprocessing import LabelEncoder\n",
    "lb= LabelEncoder()\n",
    "x[:,7] = lb.fit_transform(x[:,7])"
   ]
  },
  {
   "cell_type": "code",
   "execution_count": 13,
   "metadata": {},
   "outputs": [
    {
     "data": {
      "text/plain": [
       "(366, 9)"
      ]
     },
     "execution_count": 13,
     "metadata": {},
     "output_type": "execute_result"
    }
   ],
   "source": [
    "x.shape"
   ]
  },
  {
   "cell_type": "code",
   "execution_count": 14,
   "metadata": {},
   "outputs": [
    {
     "data": {
      "text/plain": [
       "array([[0.0, 3.4, 30.0, ..., 7, 0, 3.6],\n",
       "       [3.6, 4.4, 39.0, ..., 3, 1, 3.6],\n",
       "       [3.6, 5.8, 85.0, ..., 7, 1, 39.8],\n",
       "       ..., \n",
       "       [0.0, 8.4, 43.0, ..., 2, 0, 0.0],\n",
       "       [0.0, 5.0, 46.0, ..., 7, 0, 0.0],\n",
       "       [0.0, 6.0, 78.0, ..., 1, 0, 0.0]], dtype=object)"
      ]
     },
     "execution_count": 14,
     "metadata": {},
     "output_type": "execute_result"
    }
   ],
   "source": [
    "x"
   ]
  },
  {
   "cell_type": "code",
   "execution_count": 15,
   "metadata": {},
   "outputs": [],
   "source": [
    "dt1=LabelEncoder()\n",
    "y=dt1.fit_transform(y)"
   ]
  },
  {
   "cell_type": "code",
   "execution_count": 16,
   "metadata": {
    "scrolled": true
   },
   "outputs": [
    {
     "data": {
      "text/plain": [
       "array([1, 1, 1, 1, 0, 0, 0, 0, 1, 0, 0, 0, 0, 0, 0, 0, 1, 0, 0, 0, 0, 1, 0,\n",
       "       0, 0, 0, 0, 0, 0, 1, 1, 0, 1, 0, 0, 0, 1, 0, 0, 0, 0, 0, 0, 0, 1, 1,\n",
       "       0, 0, 1, 1, 1, 1, 0, 1, 0, 0, 1, 0, 0, 0, 0, 0, 0, 0, 0, 0, 0, 0, 0,\n",
       "       0, 0, 0, 1, 0, 0, 0, 1, 0, 1, 1, 0, 0, 0, 0, 0, 0, 0, 0, 0, 0, 1, 1,\n",
       "       0, 0, 1, 1, 0, 0, 1, 0, 0, 0, 1, 1, 0, 0, 0, 0, 0, 0, 0, 1, 1, 0, 0,\n",
       "       0, 0, 0, 0, 1, 0, 0, 0, 0, 0, 0, 0, 1, 0, 0, 0, 0, 0, 0, 0, 0, 0, 0,\n",
       "       0, 0, 0, 0, 0, 0, 1, 1, 0, 0, 0, 0, 0, 0, 0, 1, 0, 0, 0, 0, 0, 0, 0,\n",
       "       0, 0, 1, 1, 0, 0, 0, 0, 0, 0, 0, 0, 0, 0, 0, 0, 0, 1, 0, 0, 0, 0, 0,\n",
       "       0, 0, 0, 0, 0, 0, 0, 0, 0, 0, 0, 0, 1, 0, 0, 0, 0, 0, 0, 0, 0, 0, 1,\n",
       "       1, 0, 0, 0, 0, 0, 0, 0, 1, 0, 0, 0, 0, 0, 1, 1, 0, 0, 0, 0, 0, 0, 0,\n",
       "       0, 1, 0, 0, 0, 0, 0, 0, 0, 0, 0, 0, 1, 0, 0, 0, 0, 0, 0, 1, 0, 0, 1,\n",
       "       0, 0, 0, 0, 0, 0, 0, 1, 0, 1, 0, 0, 0, 0, 0, 0, 1, 0, 0, 0, 0, 1, 0,\n",
       "       0, 0, 1, 0, 1, 0, 0, 0, 0, 0, 0, 0, 0, 0, 0, 0, 0, 0, 0, 0, 0, 0, 0,\n",
       "       0, 0, 0, 0, 1, 1, 0, 0, 0, 0, 0, 0, 0, 0, 0, 0, 0, 0, 1, 1, 1, 0, 0,\n",
       "       0, 0, 0, 0, 1, 0, 0, 0, 0, 0, 0, 0, 0, 0, 0, 1, 1, 0, 1, 0, 0, 0, 0,\n",
       "       0, 0, 1, 0, 0, 0, 0, 0, 0, 0, 0, 0, 0, 0, 0, 0, 0, 0, 0, 0, 0])"
      ]
     },
     "execution_count": 16,
     "metadata": {},
     "output_type": "execute_result"
    }
   ],
   "source": [
    "y"
   ]
  },
  {
   "cell_type": "code",
   "execution_count": 17,
   "metadata": {},
   "outputs": [
    {
     "data": {
      "text/plain": [
       "(366,)"
      ]
     },
     "execution_count": 17,
     "metadata": {},
     "output_type": "execute_result"
    }
   ],
   "source": [
    "y.shape"
   ]
  },
  {
   "cell_type": "code",
   "execution_count": 18,
   "metadata": {},
   "outputs": [],
   "source": [
    "from sklearn.model_selection import train_test_split\n",
    "x_train,x_test,y_train,y_test=train_test_split(x,y,test_size=0.4,random_state=1)"
   ]
  },
  {
   "cell_type": "code",
   "execution_count": 19,
   "metadata": {},
   "outputs": [
    {
     "data": {
      "text/plain": [
       "array([[0.0, 8.4, 43.0, ..., 1, 0, 0.0],\n",
       "       [0.0, 5.6, 33.0, ..., 2, 0, 0.0],\n",
       "       [0.0, 6.8, 65.0, ..., 0, 0, 0.0],\n",
       "       ..., \n",
       "       [0.0, 13.8, 50.0, ..., 2, 0, 2.0],\n",
       "       [0.0, 2.0, 24.0, ..., 7, 0, 0.0],\n",
       "       [4.0, 4.2, 39.0, ..., 1, 1, 0.0]], dtype=object)"
      ]
     },
     "execution_count": 19,
     "metadata": {},
     "output_type": "execute_result"
    }
   ],
   "source": [
    "x_train"
   ]
  },
  {
   "cell_type": "code",
   "execution_count": 20,
   "metadata": {},
   "outputs": [
    {
     "data": {
      "text/plain": [
       "array([0, 1, 0, 0, 0, 0, 0, 0, 0, 0, 0, 0, 0, 0, 0, 1, 1, 0, 0, 0, 0, 0, 0,\n",
       "       0, 0, 0, 0, 0, 0, 0, 0, 0, 1, 0, 0, 0, 0, 0, 0, 0, 0, 0, 0, 0, 0, 0,\n",
       "       0, 0, 0, 1, 0, 0, 0, 0, 0, 0, 0, 0, 0, 0, 0, 0, 0, 0, 0, 0, 0, 0, 0,\n",
       "       0, 1, 1, 0, 0, 0, 0, 0, 0, 0, 0, 0, 0, 0, 0, 0, 0, 1, 0, 0, 0, 0, 0,\n",
       "       1, 0, 0, 0, 1, 0, 0, 1, 1, 0, 0, 0, 0, 0, 0, 0, 0, 0, 0, 0, 0, 0, 0,\n",
       "       0, 0, 0, 0, 0, 1, 1, 0, 1, 0, 0, 1, 1, 0, 1, 0, 1, 0, 0, 0, 0, 1, 0,\n",
       "       0, 0, 0, 0, 1, 1, 0, 0, 0])"
      ]
     },
     "execution_count": 20,
     "metadata": {},
     "output_type": "execute_result"
    }
   ],
   "source": [
    "y_test"
   ]
  },
  {
   "cell_type": "code",
   "execution_count": 21,
   "metadata": {},
   "outputs": [
    {
     "data": {
      "text/plain": [
       "array([[0.0, 1.4, 13.0, ..., 2, 0, 0.0],\n",
       "       [0.0, 8.4, 50.0, ..., 7, 0, 3.0],\n",
       "       [0.0, 1.0, 13.0, ..., 7, 0, 0.0],\n",
       "       ..., \n",
       "       [0.0, 3.8, 31.0, ..., 5, 0, 0.0],\n",
       "       [5.2, 3.8, 31.0, ..., 1, 1, 0.0],\n",
       "       [0.0, 4.0, 33.0, ..., 6, 0, 0.0]], dtype=object)"
      ]
     },
     "execution_count": 21,
     "metadata": {},
     "output_type": "execute_result"
    }
   ],
   "source": [
    "x_test"
   ]
  },
  {
   "cell_type": "code",
   "execution_count": 22,
   "metadata": {},
   "outputs": [
    {
     "data": {
      "text/plain": [
       "array([0, 0, 0, 0, 0, 0, 1, 0, 1, 0, 0, 1, 0, 0, 1, 0, 0, 1, 0, 0, 0, 0, 0,\n",
       "       0, 0, 0, 0, 1, 1, 1, 1, 0, 0, 0, 0, 0, 0, 0, 0, 0, 0, 0, 0, 0, 0, 1,\n",
       "       0, 0, 0, 0, 1, 0, 1, 0, 1, 0, 1, 0, 0, 0, 0, 1, 0, 0, 0, 0, 0, 0, 0,\n",
       "       0, 0, 0, 0, 1, 0, 0, 1, 0, 0, 0, 0, 0, 0, 0, 0, 0, 0, 0, 0, 0, 1, 0,\n",
       "       1, 0, 1, 0, 0, 1, 0, 0, 0, 0, 0, 0, 0, 0, 0, 1, 1, 0, 0, 0, 0, 1, 0,\n",
       "       0, 0, 0, 0, 0, 0, 0, 0, 0, 0, 1, 0, 0, 0, 0, 0, 0, 0, 0, 0, 0, 1, 0,\n",
       "       1, 0, 0, 0, 0, 0, 0, 0, 0, 0, 0, 0, 0, 0, 0, 0, 0, 0, 0, 0, 0, 0, 0,\n",
       "       0, 0, 0, 1, 0, 0, 0, 1, 0, 0, 0, 0, 0, 0, 1, 0, 1, 1, 1, 1, 0, 1, 0,\n",
       "       0, 0, 0, 0, 0, 0, 1, 0, 0, 1, 1, 0, 0, 0, 0, 1, 0, 1, 0, 1, 0, 0, 1,\n",
       "       0, 0, 0, 0, 1, 0, 0, 0, 0, 1, 0, 0])"
      ]
     },
     "execution_count": 22,
     "metadata": {},
     "output_type": "execute_result"
    }
   ],
   "source": [
    "y_train"
   ]
  },
  {
   "cell_type": "code",
   "execution_count": 67,
   "metadata": {},
   "outputs": [],
   "source": [
    "from sklearn.preprocessing import StandardScaler\n",
    "sxc=StandardScaler()\n",
    "x_train=sxc.fit_transform(x_train)\n",
    "x_test=sxc.transform(x_test)"
   ]
  },
  {
   "cell_type": "code",
   "execution_count": 68,
   "metadata": {},
   "outputs": [
    {
     "data": {
      "text/plain": [
       "RandomForestClassifier(bootstrap=True, class_weight=None, criterion='entropy',\n",
       "            max_depth=None, max_features='auto', max_leaf_nodes=None,\n",
       "            min_impurity_decrease=0.0, min_impurity_split=None,\n",
       "            min_samples_leaf=1, min_samples_split=2,\n",
       "            min_weight_fraction_leaf=0.0, n_estimators=10, n_jobs=1,\n",
       "            oob_score=False, random_state=0, verbose=0, warm_start=False)"
      ]
     },
     "execution_count": 68,
     "metadata": {},
     "output_type": "execute_result"
    }
   ],
   "source": [
    "from sklearn.ensemble import RandomForestClassifier\n",
    "rtc=RandomForestClassifier(n_estimators=10,criterion='entropy',random_state=0)\n",
    "rtc.fit(x_train,y_train)"
   ]
  },
  {
   "cell_type": "code",
   "execution_count": 69,
   "metadata": {},
   "outputs": [
    {
     "data": {
      "text/plain": [
       "array([[-0.35114371,  1.47151371,  0.2292429 , ..., -1.19043688,\n",
       "        -0.49428553, -0.34873894],\n",
       "       [-0.35114371,  0.42883725, -0.50136196, ..., -0.8206416 ,\n",
       "        -0.49428553, -0.34873894],\n",
       "       [-0.35114371,  0.87569859,  1.83657361, ..., -1.56023217,\n",
       "        -0.49428553, -0.34873894],\n",
       "       ..., \n",
       "       [-0.35114371,  3.48238973,  0.74066631, ..., -0.8206416 ,\n",
       "        -0.49428553,  0.08793246],\n",
       "       [-0.35114371, -0.91174676, -1.15890634, ...,  1.02833484,\n",
       "        -0.49428553, -0.34873894],\n",
       "       [ 0.499996  , -0.09250098, -0.06299904, ..., -1.19043688,\n",
       "         2.02312216, -0.34873894]])"
      ]
     },
     "execution_count": 69,
     "metadata": {},
     "output_type": "execute_result"
    }
   ],
   "source": [
    "x_train"
   ]
  },
  {
   "cell_type": "code",
   "execution_count": 70,
   "metadata": {},
   "outputs": [],
   "source": [
    "y_predict=rtc.predict(x_test)"
   ]
  },
  {
   "cell_type": "code",
   "execution_count": 71,
   "metadata": {},
   "outputs": [
    {
     "data": {
      "text/plain": [
       "array([0, 1, 0, 0, 0, 0, 0, 0, 0, 0, 0, 0, 0, 0, 0, 1, 1, 0, 0, 0, 0, 0, 0,\n",
       "       0, 0, 0, 0, 0, 0, 0, 0, 0, 1, 0, 0, 0, 0, 0, 0, 0, 0, 0, 0, 0, 0, 0,\n",
       "       0, 0, 0, 1, 0, 0, 0, 0, 0, 0, 0, 0, 0, 0, 0, 0, 0, 0, 0, 0, 0, 0, 0,\n",
       "       0, 1, 1, 0, 0, 0, 0, 0, 0, 0, 0, 0, 0, 0, 0, 0, 0, 1, 0, 0, 0, 0, 0,\n",
       "       1, 0, 0, 0, 1, 0, 0, 1, 1, 0, 0, 0, 0, 0, 0, 0, 0, 0, 0, 0, 0, 0, 0,\n",
       "       0, 0, 0, 0, 0, 1, 1, 0, 1, 0, 0, 0, 1, 0, 1, 0, 1, 0, 0, 0, 0, 1, 0,\n",
       "       0, 0, 0, 0, 1, 0, 0, 0, 0])"
      ]
     },
     "execution_count": 71,
     "metadata": {},
     "output_type": "execute_result"
    }
   ],
   "source": [
    "y_predict"
   ]
  },
  {
   "cell_type": "code",
   "execution_count": 72,
   "metadata": {},
   "outputs": [
    {
     "data": {
      "text/plain": [
       "array([0, 0, 0, 0, 0, 0, 1, 0, 1, 0, 0, 1, 0, 0, 1, 0, 0, 1, 0, 0, 0, 0, 0,\n",
       "       0, 0, 0, 0, 1, 1, 1, 1, 0, 0, 0, 0, 0, 0, 0, 0, 0, 0, 0, 0, 0, 0, 1,\n",
       "       0, 0, 0, 0, 1, 0, 1, 0, 1, 0, 1, 0, 0, 0, 0, 1, 0, 0, 0, 0, 0, 0, 0,\n",
       "       0, 0, 0, 0, 1, 0, 0, 1, 0, 0, 0, 0, 0, 0, 0, 0, 0, 0, 0, 0, 0, 1, 0,\n",
       "       1, 0, 1, 0, 0, 1, 0, 0, 0, 0, 0, 0, 0, 0, 0, 1, 1, 0, 0, 0, 0, 1, 0,\n",
       "       0, 0, 0, 0, 0, 0, 0, 0, 0, 0, 1, 0, 0, 0, 0, 0, 0, 0, 0, 0, 0, 1, 0,\n",
       "       1, 0, 0, 0, 0, 0, 0, 0, 0, 0, 0, 0, 0, 0, 0, 0, 0, 0, 0, 0, 0, 0, 0,\n",
       "       0, 0, 0, 1, 0, 0, 0, 1, 0, 0, 0, 0, 0, 0, 1, 0, 1, 1, 1, 1, 0, 1, 0,\n",
       "       0, 0, 0, 0, 0, 0, 1, 0, 0, 1, 1, 0, 0, 0, 0, 1, 0, 1, 0, 1, 0, 0, 1,\n",
       "       0, 0, 0, 0, 1, 0, 0, 0, 0, 1, 0, 0])"
      ]
     },
     "execution_count": 72,
     "metadata": {},
     "output_type": "execute_result"
    }
   ],
   "source": [
    "y_train"
   ]
  },
  {
   "cell_type": "code",
   "execution_count": 73,
   "metadata": {},
   "outputs": [
    {
     "data": {
      "text/plain": [
       "array([0, 1, 0, 0, 0, 0, 0, 0, 0, 0, 0, 0, 0, 0, 0, 1, 1, 0, 0, 0, 0, 0, 0,\n",
       "       0, 0, 0, 0, 0, 0, 0, 0, 0, 1, 0, 0, 0, 0, 0, 0, 0, 0, 0, 0, 0, 0, 0,\n",
       "       0, 0, 0, 1, 0, 0, 0, 0, 0, 0, 0, 0, 0, 0, 0, 0, 0, 0, 0, 0, 0, 0, 0,\n",
       "       0, 1, 1, 0, 0, 0, 0, 0, 0, 0, 0, 0, 0, 0, 0, 0, 0, 1, 0, 0, 0, 0, 0,\n",
       "       1, 0, 0, 0, 1, 0, 0, 1, 1, 0, 0, 0, 0, 0, 0, 0, 0, 0, 0, 0, 0, 0, 0,\n",
       "       0, 0, 0, 0, 0, 1, 1, 0, 1, 0, 0, 1, 1, 0, 1, 0, 1, 0, 0, 0, 0, 1, 0,\n",
       "       0, 0, 0, 0, 1, 1, 0, 0, 0])"
      ]
     },
     "execution_count": 73,
     "metadata": {},
     "output_type": "execute_result"
    }
   ],
   "source": [
    "y_test"
   ]
  },
  {
   "cell_type": "code",
   "execution_count": 74,
   "metadata": {},
   "outputs": [
    {
     "data": {
      "text/plain": [
       "0.98639455782312924"
      ]
     },
     "execution_count": 74,
     "metadata": {},
     "output_type": "execute_result"
    }
   ],
   "source": [
    "from sklearn.metrics import accuracy_score\n",
    "rtc_acc=accuracy_score(y_test,y_predict)\n",
    "rtc_acc"
   ]
  },
  {
   "cell_type": "code",
   "execution_count": 75,
   "metadata": {},
   "outputs": [],
   "source": [
    "from  sklearn.metrics import confusion_matrix\n",
    "cm=confusion_matrix(y_test,y_predict)"
   ]
  },
  {
   "cell_type": "code",
   "execution_count": 76,
   "metadata": {
    "scrolled": true
   },
   "outputs": [
    {
     "data": {
      "text/plain": [
       "array([[125,   0],\n",
       "       [  2,  20]])"
      ]
     },
     "execution_count": 76,
     "metadata": {},
     "output_type": "execute_result"
    }
   ],
   "source": [
    "cm"
   ]
  },
  {
   "cell_type": "code",
   "execution_count": 77,
   "metadata": {},
   "outputs": [
    {
     "data": {
      "text/plain": [
       "0.95454545454545459"
      ]
     },
     "execution_count": 77,
     "metadata": {},
     "output_type": "execute_result"
    }
   ],
   "source": [
    "import sklearn.metrics as metrics\n",
    "fpr,tpr,threshold=metrics.roc_curve(y_test,y_predict)\n",
    "roc_auc=metrics.auc(fpr,tpr)\n",
    "roc_auc"
   ]
  },
  {
   "cell_type": "code",
   "execution_count": 78,
   "metadata": {},
   "outputs": [
    {
     "data": {
      "text/plain": [
       "0.89309090909090916"
      ]
     },
     "execution_count": 78,
     "metadata": {},
     "output_type": "execute_result"
    }
   ],
   "source": [
    "from sklearn.metrics import r2_score\n",
    "r2_score(y_test,y_predict)"
   ]
  },
  {
   "cell_type": "code",
   "execution_count": 79,
   "metadata": {
    "scrolled": true
   },
   "outputs": [
    {
     "data": {
      "text/plain": [
       "<function matplotlib.pyplot.plot>"
      ]
     },
     "execution_count": 79,
     "metadata": {},
     "output_type": "execute_result"
    },
    {
     "data": {
      "image/png": "[encoded data removed]",
      "text/plain": [
       "<matplotlib.figure.Figure at 0x7fe8b41414e0>"
      ]
     },
     "metadata": {},
     "output_type": "display_data"
    }
   ],
   "source": [
    "ptd.title(\"Reciver opertaing characterstics\"\n",
    "         )\n",
    "ptd.plot(fpr,tpr,label='AUC=%0.2f'%roc_auc,color='green')\n",
    "ptd.legend()\n",
    "ptd.plot"
   ]
  },
  {
   "cell_type": "markdown",
   "metadata": {},
   "source": [
    "# Logistic Regression"
   ]
  },
  {
   "cell_type": "code",
   "execution_count": 80,
   "metadata": {
    "scrolled": false
   },
   "outputs": [
    {
     "data": {
      "text/plain": [
       "LogisticRegression(C=1.0, class_weight=None, dual=False, fit_intercept=True,\n",
       "          intercept_scaling=1, max_iter=100, multi_class='ovr', n_jobs=1,\n",
       "          penalty='l2', random_state=None, solver='liblinear', tol=0.0001,\n",
       "          verbose=0, warm_start=False)"
      ]
     },
     "execution_count": 80,
     "metadata": {},
     "output_type": "execute_result"
    }
   ],
   "source": [
    "from sklearn.linear_model import LogisticRegression\n",
    "classifier = LogisticRegression()\n",
    "classifier.fit(x_train,y_train)"
   ]
  },
  {
   "cell_type": "code",
   "execution_count": 81,
   "metadata": {},
   "outputs": [
    {
     "data": {
      "text/plain": [
       "array([0, 1, 0, 0, 0, 0, 0, 0, 0, 0, 0, 0, 0, 0, 0, 1, 1, 0, 0, 0, 0, 0, 0,\n",
       "       0, 0, 0, 0, 0, 0, 0, 0, 0, 1, 0, 0, 0, 0, 0, 0, 0, 0, 0, 0, 0, 0, 0,\n",
       "       0, 0, 0, 1, 0, 0, 0, 0, 0, 0, 0, 0, 0, 0, 0, 0, 0, 0, 0, 0, 0, 0, 0,\n",
       "       0, 1, 1, 0, 0, 0, 0, 0, 0, 0, 0, 0, 0, 0, 0, 0, 0, 1, 0, 0, 0, 0, 0,\n",
       "       1, 0, 0, 0, 1, 0, 0, 0, 1, 0, 0, 0, 0, 0, 0, 0, 0, 0, 0, 0, 0, 0, 0,\n",
       "       0, 0, 0, 0, 0, 0, 1, 0, 1, 0, 0, 0, 1, 0, 0, 0, 1, 0, 0, 0, 0, 1, 0,\n",
       "       0, 0, 0, 0, 0, 0, 0, 0, 0])"
      ]
     },
     "execution_count": 81,
     "metadata": {},
     "output_type": "execute_result"
    }
   ],
   "source": [
    "y_predict=classifier.predict(x_test)\n",
    "y_predict"
   ]
  },
  {
   "cell_type": "code",
   "execution_count": 82,
   "metadata": {},
   "outputs": [
    {
     "data": {
      "text/plain": [
       "0.95918367346938771"
      ]
     },
     "execution_count": 82,
     "metadata": {},
     "output_type": "execute_result"
    }
   ],
   "source": [
    "from sklearn.metrics import accuracy_score\n",
    "acc_rf=accuracy_score(y_test,y_predict)\n",
    "acc_rf"
   ]
  },
  {
   "cell_type": "markdown",
   "metadata": {},
   "source": [
    "# Decision tree"
   ]
  },
  {
   "cell_type": "code",
   "execution_count": 83,
   "metadata": {
    "scrolled": true
   },
   "outputs": [
    {
     "data": {
      "text/plain": [
       "DecisionTreeClassifier(class_weight=None, criterion='entropy', max_depth=None,\n",
       "            max_features=None, max_leaf_nodes=None,\n",
       "            min_impurity_decrease=0.0, min_impurity_split=None,\n",
       "            min_samples_leaf=1, min_samples_split=2,\n",
       "            min_weight_fraction_leaf=0.0, presort=False, random_state=0,\n",
       "            splitter='best')"
      ]
     },
     "execution_count": 83,
     "metadata": {},
     "output_type": "execute_result"
    }
   ],
   "source": [
    "from sklearn.tree import DecisionTreeClassifier\n",
    "dtc=DecisionTreeClassifier(criterion=\"entropy\",random_state=0)\n",
    "dtc.fit(x_train,y_train)"
   ]
  },
  {
   "cell_type": "code",
   "execution_count": 84,
   "metadata": {},
   "outputs": [],
   "source": [
    "y_predict1=dtc.predict(x_test)"
   ]
  },
  {
   "cell_type": "code",
   "execution_count": 85,
   "metadata": {},
   "outputs": [
    {
     "data": {
      "text/plain": [
       "array([0, 1, 0, 0, 0, 0, 0, 0, 0, 0, 0, 0, 0, 0, 0, 1, 1, 0, 0, 0, 0, 0, 0,\n",
       "       0, 0, 0, 0, 0, 0, 0, 0, 0, 1, 0, 0, 0, 0, 0, 0, 0, 0, 0, 0, 0, 0, 0,\n",
       "       0, 0, 0, 1, 0, 0, 0, 0, 0, 0, 0, 0, 0, 0, 0, 0, 0, 0, 0, 0, 0, 0, 0,\n",
       "       0, 1, 1, 0, 0, 0, 0, 0, 0, 0, 0, 0, 0, 0, 0, 0, 0, 1, 0, 0, 0, 0, 0,\n",
       "       1, 0, 0, 0, 1, 0, 0, 1, 1, 0, 0, 0, 0, 0, 0, 0, 0, 0, 0, 0, 0, 0, 0,\n",
       "       0, 0, 0, 0, 0, 1, 1, 0, 1, 0, 0, 1, 1, 0, 1, 0, 1, 0, 0, 0, 0, 1, 0,\n",
       "       0, 0, 0, 0, 1, 1, 0, 0, 0])"
      ]
     },
     "execution_count": 85,
     "metadata": {},
     "output_type": "execute_result"
    }
   ],
   "source": [
    "y_predict1"
   ]
  },
  {
   "cell_type": "code",
   "execution_count": 86,
   "metadata": {},
   "outputs": [
    {
     "data": {
      "text/plain": [
       "1.0"
      ]
     },
     "execution_count": 86,
     "metadata": {},
     "output_type": "execute_result"
    }
   ],
   "source": [
    "from sklearn.metrics import accuracy_score\n",
    "acc_dt=accuracy_score(y_test,y_predict1)\n",
    "acc_dt"
   ]
  },
  {
   "cell_type": "markdown",
   "metadata": {},
   "source": [
    "# SVM"
   ]
  },
  {
   "cell_type": "code",
   "execution_count": 87,
   "metadata": {},
   "outputs": [
    {
     "data": {
      "text/plain": [
       "0.96598639455782309"
      ]
     },
     "execution_count": 87,
     "metadata": {},
     "output_type": "execute_result"
    }
   ],
   "source": [
    "from sklearn.svm import SVC\n",
    "svm=SVC(kernel='linear')\n",
    "svm.fit(x_train,y_train)\n",
    "y_predict2=svm.predict(x_test)\n",
    "ac_svm=accuracy_score(y_test,y_predict2)\n",
    "ac_svm"
   ]
  },
  {
   "cell_type": "code",
   "execution_count": 88,
   "metadata": {},
   "outputs": [
    {
     "data": {
      "image/png": "[encoded data removed]",
      "text/plain": [
       "<matplotlib.figure.Figure at 0x7fe8b412ae10>"
      ]
     },
     "metadata": {},
     "output_type": "display_data"
    }
   ],
   "source": [
    "p=['RandomForest','Decision Tree','LogisticRegression','SVM']\n",
    "q=[rtc_acc,acc_dt,acc_rf,ac_svm]\n",
    "ptd.bar(p,q)\n",
    "ptd.title('Accuracy')\n",
    "ptd.show()"
   ]
  },
  {
   "cell_type": "code",
   "execution_count": 44,
   "metadata": {
    "scrolled": true
   },
   "outputs": [
    {
     "name": "stdout",
     "output_type": "stream",
     "text": [
      "Requirement already up-to-date: watson-machine-learning-client in /opt/conda/envs/DSX-Python35/lib/python3.5/site-packages (1.0.365)\n",
      "Requirement not upgraded as not directly required: certifi in /opt/conda/envs/DSX-Python35/lib/python3.5/site-packages (from watson-machine-learning-client) (2019.3.9)\n",
      "Requirement not upgraded as not directly required: urllib3 in /opt/conda/envs/DSX-Python35/lib/python3.5/site-packages (from watson-machine-learning-client) (1.22)\n",
      "Requirement not upgraded as not directly required: tabulate in /opt/conda/envs/DSX-Python35/lib/python3.5/site-packages (from watson-machine-learning-client) (0.8.2)\n",
      "Requirement not upgraded as not directly required: requests in /opt/conda/envs/DSX-Python35/lib/python3.5/site-packages (from watson-machine-learning-client) (2.18.4)\n",
      "Requirement not upgraded as not directly required: pandas in /opt/conda/envs/DSX-Python35/lib/python3.5/site-packages (from watson-machine-learning-client) (0.21.0)\n",
      "Requirement not upgraded as not directly required: tqdm in /opt/conda/envs/DSX-Python35/lib/python3.5/site-packages (from watson-machine-learning-client) (4.19.5)\n",
      "Requirement not upgraded as not directly required: ibm-cos-sdk in /opt/conda/envs/DSX-Python35/lib/python3.5/site-packages (from watson-machine-learning-client) (2.0.1)\n",
      "Requirement not upgraded as not directly required: lomond in /opt/conda/envs/DSX-Python35/lib/python3.5/site-packages (from watson-machine-learning-client) (0.1.13)\n",
      "Requirement not upgraded as not directly required: chardet<3.1.0,>=3.0.2 in /opt/conda/envs/DSX-Python35/lib/python3.5/site-packages (from requests->watson-machine-learning-client) (3.0.4)\n",
      "Requirement not upgraded as not directly required: idna<2.7,>=2.5 in /opt/conda/envs/DSX-Python35/lib/python3.5/site-packages (from requests->watson-machine-learning-client) (2.6)\n",
      "Requirement not upgraded as not directly required: python-dateutil>=2 in /opt/conda/envs/DSX-Python35/lib/python3.5/site-packages (from pandas->watson-machine-learning-client) (2.6.1)\n",
      "Requirement not upgraded as not directly required: pytz>=2011k in /opt/conda/envs/DSX-Python35/lib/python3.5/site-packages (from pandas->watson-machine-learning-client) (2018.3)\n",
      "Requirement not upgraded as not directly required: numpy>=1.9.0 in /opt/conda/envs/DSX-Python35/lib/python3.5/site-packages (from pandas->watson-machine-learning-client) (1.13.3)\n",
      "Requirement not upgraded as not directly required: ibm-cos-sdk-s3transfer==2.*,>=2.0.0 in /opt/conda/envs/DSX-Python35/lib/python3.5/site-packages (from ibm-cos-sdk->watson-machine-learning-client) (2.0.1)\n",
      "Requirement not upgraded as not directly required: ibm-cos-sdk-core==2.*,>=2.0.0 in /opt/conda/envs/DSX-Python35/lib/python3.5/site-packages (from ibm-cos-sdk->watson-machine-learning-client) (2.0.1)\n",
      "Requirement not upgraded as not directly required: six>=1.10.0 in /opt/conda/envs/DSX-Python35/lib/python3.5/site-packages (from lomond->watson-machine-learning-client) (1.11.0)\n",
      "Requirement not upgraded as not directly required: jmespath<1.0.0,>=0.7.1 in /opt/conda/envs/DSX-Python35/lib/python3.5/site-packages (from ibm-cos-sdk-core==2.*,>=2.0.0->ibm-cos-sdk->watson-machine-learning-client) (0.9.3)\n",
      "Requirement not upgraded as not directly required: docutils>=0.10 in /opt/conda/envs/DSX-Python35/lib/python3.5/site-packages (from ibm-cos-sdk-core==2.*,>=2.0.0->ibm-cos-sdk->watson-machine-learning-client) (0.14)\n",
      "\u001b[31mtensorflow 1.3.0 requires tensorflow-tensorboard<0.2.0,>=0.1.0, which is not installed.\u001b[0m\n"
     ]
    }
   ],
   "source": [
    "!pip install watson-machine-learning-client --upgrade"
   ]
  },
  {
   "cell_type": "code",
   "execution_count": 45,
   "metadata": {},
   "outputs": [
    {
     "name": "stderr",
     "output_type": "stream",
     "text": [
      "/opt/conda/envs/DSX-Python35/lib/python3.5/site-packages/sklearn/cross_validation.py:41: DeprecationWarning: This module was deprecated in version 0.18 in favor of the model_selection module into which all the refactored classes and functions are moved. Also note that the interface of the new CV iterators are different from that of this module. This module will be removed in 0.20.\n",
      "  \"This module will be removed in 0.20.\", DeprecationWarning)\n",
      "2019-05-23 08:42:16,106 - watson_machine_learning_client.metanames - WARNING - 'AUTHOR_EMAIL' meta prop is deprecated. It will be ignored.\n",
      "2019-05-23 08:42:19,228 - watson_machine_learning_client.wml_client_error - WARNING - Deployment creation failed. Error: 402. {\"trace\":\"6f7957a842a48cd6f6826817e7387589\",\"errors\":[{\"code\":\"deployments_plan_limit_reached\",\"message\":\"Current plan 'lite' only allows 5 deployments\"}]}\n"
     ]
    }
   ],
   "source": [
    "from watson_machine_learning_client import WatsonMachineLearningAPIClient"
   ]
  },
  {
   "cell_type": "code",
   "execution_count": 46,
   "metadata": {},
   "outputs": [],
   "source": [
    "wml_credentials={\n",
    "    \"access_key\": \"tXS_NoCSNwMa8aLHt5jSSYohLSb3DtPQXwoZALa9FD8W\",\n",
    "    \"instance_id\": \"665208e9-8ff4-4ce2-bfc4-a647fd42c7cd\",\n",
    "    \"password\": \"4dcb387b-fcc5-4fd5-ab69-55c3c269b494\",\n",
    "    \"url\": \"https://eu-gb.ml.cloud.ibm.com\",\n",
    "    \"username\": \"6a31b24a-887b-46fb-a962-fa947464b9bb\"\n",
    "}"
   ]
  },
  {
   "cell_type": "code",
   "execution_count": 47,
   "metadata": {},
   "outputs": [],
   "source": [
    "client = WatsonMachineLearningAPIClient(wml_credentials)\n",
    "import json"
   ]
  },
  {
   "cell_type": "code",
   "execution_count": 48,
   "metadata": {},
   "outputs": [
    {
     "name": "stdout",
     "output_type": "stream",
     "text": [
      "{\n",
      "  \"entity\": {\n",
      "    \"account\": {\n",
      "      \"name\": \"Irshad Hussain's Account\",\n",
      "      \"id\": \"1290023ccfbc455199f99a0cab2931c4\",\n",
      "      \"type\": \"STANDARD\"\n",
      "    },\n",
      "    \"published_models\": {\n",
      "      \"url\": \"https://eu-gb.ml.cloud.ibm.com/v3/wml_instances/665208e9-8ff4-4ce2-bfc4-a647fd42c7cd/published_models\"\n",
      "    },\n",
      "    \"space_guid\": \"N/A\",\n",
      "    \"owner\": {\n",
      "      \"country_code\": \"IND\",\n",
      "      \"email\": \"mirshadhussain514@gmail.com\",\n",
      "      \"ibm_id\": \"5500034QJE\",\n",
      "      \"user_id\": \"5441d4a9-4d39-47c1-a2dd-67467ff97f3a\",\n",
      "      \"beta_user\": false\n",
      "    },\n",
      "    \"status\": \"Active\",\n",
      "    \"tags\": null,\n",
      "    \"organization_guid\": \"N/A\",\n",
      "    \"usage\": {\n",
      "      \"prediction_count\": {\n",
      "        \"current\": 3,\n",
      "        \"limit\": 5000\n",
      "      },\n",
      "      \"computation_time\": {\n",
      "        \"current\": 0,\n",
      "        \"limit\": 180000\n",
      "      },\n",
      "      \"deployment_count\": {\n",
      "        \"current\": 0,\n",
      "        \"limit\": 5\n",
      "      },\n",
      "      \"capacity_units\": {\n",
      "        \"current\": 3,\n",
      "        \"limit\": 180000000\n",
      "      },\n",
      "      \"model_count\": {\n",
      "        \"current\": 10,\n",
      "        \"limit\": 200\n",
      "      },\n",
      "      \"expiration_date\": \"2019-06-01T00:00:00.000Z\",\n",
      "      \"gpu_count_v100\": {\n",
      "        \"current\": 0,\n",
      "        \"limit\": 0\n",
      "      },\n",
      "      \"gpu_count_p100\": {\n",
      "        \"current\": 0,\n",
      "        \"limit\": 0\n",
      "      },\n",
      "      \"gpu_count_k80\": {\n",
      "        \"current\": 0,\n",
      "        \"limit\": 8\n",
      "      }\n",
      "    },\n",
      "    \"deployments\": {\n",
      "      \"url\": \"https://eu-gb.ml.cloud.ibm.com/v3/wml_instances/665208e9-8ff4-4ce2-bfc4-a647fd42c7cd/deployments\"\n",
      "    },\n",
      "    \"plan\": \"lite\",\n",
      "    \"source\": \"Bluemix\",\n",
      "    \"region\": \"eu-gb\",\n",
      "    \"plan_id\": \"3f6acf43-ede8-413a-ac69-f8af3bb0cbfe\"\n",
      "  },\n",
      "  \"metadata\": {\n",
      "    \"url\": \"https://eu-gb.ml.cloud.ibm.com/v3/wml_instances/665208e9-8ff4-4ce2-bfc4-a647fd42c7cd\",\n",
      "    \"created_at\": \"2019-05-14T11:04:13.348Z\",\n",
      "    \"guid\": \"665208e9-8ff4-4ce2-bfc4-a647fd42c7cd\",\n",
      "    \"modified_at\": \"2019-05-23T08:22:16.406Z\"\n",
      "  }\n",
      "}\n"
     ]
    }
   ],
   "source": [
    "instance_details = client.service_instance.get_details()\n",
    "print(json.dumps(instance_details,indent=2))"
   ]
  },
  {
   "cell_type": "code",
   "execution_count": 49,
   "metadata": {},
   "outputs": [],
   "source": [
    "model_props = {client.repository.ModelMetaNames.AUTHOR_NAME:\"Irshad Hussain\",\n",
    "              client.repository.ModelMetaNames.AUTHOR_EMAIL:\"mirshadhussain514@gmail.com\",\n",
    "               client.repository.ModelMetaNames.NAME:\"Random Forest\"\n",
    "              }"
   ]
  },
  {
   "cell_type": "code",
   "execution_count": 50,
   "metadata": {},
   "outputs": [],
   "source": [
    "model_artifact = client.repository.store_model(rtc,meta_props=model_props)"
   ]
  },
  {
   "cell_type": "code",
   "execution_count": 51,
   "metadata": {},
   "outputs": [],
   "source": [
    "published_model_uid = client.repository.get_model_uid(model_artifact)\n"
   ]
  },
  {
   "cell_type": "code",
   "execution_count": 52,
   "metadata": {},
   "outputs": [
    {
     "data": {
      "text/plain": [
       "'e2d61878-4e8f-4bfa-aa9c-0d64d8c5076e'"
      ]
     },
     "execution_count": 52,
     "metadata": {},
     "output_type": "execute_result"
    }
   ],
   "source": [
    "published_model_uid"
   ]
  },
  {
   "cell_type": "code",
   "execution_count": 53,
   "metadata": {},
   "outputs": [
    {
     "name": "stdout",
     "output_type": "stream",
     "text": [
      "------------------------------------  ----------------  ------  --------------  ------------------------  -----------------  -------------\n",
      "GUID                                  NAME              TYPE    STATE           CREATED                   FRAMEWORK          ARTIFACT TYPE\n",
      "dc359835-2d79-4aec-9580-74fab341b3de  Weather Forecast  online  DEPLOY_SUCCESS  2019-05-23T08:22:18.718Z  scikit-learn-0.19  model\n",
      "9e5b162f-c0d4-4de3-96fc-8af987198fdb  Weather Forecast  online  DEPLOY_SUCCESS  2019-05-23T08:02:20.532Z  scikit-learn-0.19  model\n",
      "d102e3a7-8111-4e92-ba1f-72831c05c172  multilinear       online  DEPLOY_SUCCESS  2019-05-22T06:57:26.259Z  scikit-learn-0.19  model\n",
      "ebf01099-85df-4e43-b5f1-3aa3eaf2ba86  multilinear       online  DEPLOY_SUCCESS  2019-05-22T06:50:19.463Z  scikit-learn-0.19  model\n",
      "cdb2d2d3-c8fb-4626-b448-c61c46ef8ac4  multilinear       online  DEPLOY_SUCCESS  2019-05-14T11:05:58.209Z  scikit-learn-0.19  model\n",
      "------------------------------------  ----------------  ------  --------------  ------------------------  -----------------  -------------\n"
     ]
    }
   ],
   "source": [
    "client.deployments.list()"
   ]
  },
  {
   "cell_type": "code",
   "execution_count": 59,
   "metadata": {},
   "outputs": [
    {
     "data": {
      "text/plain": [
       "'SUCCESS'"
      ]
     },
     "execution_count": 59,
     "metadata": {},
     "output_type": "execute_result"
    }
   ],
   "source": [
    "client.deployments.delete('cdb2d2d3-c8fb-4626-b448-c61c46ef8ac4')"
   ]
  },
  {
   "cell_type": "code",
   "execution_count": 61,
   "metadata": {},
   "outputs": [
    {
     "data": {
      "text/plain": [
       "'SUCCESS'"
      ]
     },
     "execution_count": 61,
     "metadata": {},
     "output_type": "execute_result"
    }
   ],
   "source": [
    "client.deployments.delete('ebf01099-85df-4e43-b5f1-3aa3eaf2ba86')"
   ]
  },
  {
   "cell_type": "code",
   "execution_count": 62,
   "metadata": {},
   "outputs": [
    {
     "data": {
      "text/plain": [
       "'SUCCESS'"
      ]
     },
     "execution_count": 62,
     "metadata": {},
     "output_type": "execute_result"
    }
   ],
   "source": [
    "client.deployments.delete('d102e3a7-8111-4e92-ba1f-72831c05c172')"
   ]
  },
  {
   "cell_type": "code",
   "execution_count": 63,
   "metadata": {
    "scrolled": true
   },
   "outputs": [
    {
     "name": "stdout",
     "output_type": "stream",
     "text": [
      "------------------------------------  ----------------  ------  --------------  ------------------------  -----------------  -------------\n",
      "GUID                                  NAME              TYPE    STATE           CREATED                   FRAMEWORK          ARTIFACT TYPE\n",
      "dc359835-2d79-4aec-9580-74fab341b3de  Weather Forecast  online  DEPLOY_SUCCESS  2019-05-23T08:22:18.718Z  scikit-learn-0.19  model\n",
      "9e5b162f-c0d4-4de3-96fc-8af987198fdb  Weather Forecast  online  DEPLOY_SUCCESS  2019-05-23T08:02:20.532Z  scikit-learn-0.19  model\n",
      "------------------------------------  ----------------  ------  --------------  ------------------------  -----------------  -------------\n"
     ]
    }
   ],
   "source": [
    "client.deployments.list()"
   ]
  },
  {
   "cell_type": "code",
   "execution_count": 64,
   "metadata": {
    "scrolled": false
   },
   "outputs": [
    {
     "name": "stdout",
     "output_type": "stream",
     "text": [
      "\n",
      "\n",
      "#######################################################################################\n",
      "\n",
      "Synchronous deployment creation for uid: 'e2d61878-4e8f-4bfa-aa9c-0d64d8c5076e' started\n",
      "\n",
      "#######################################################################################\n",
      "\n",
      "\n",
      "INITIALIZING\n",
      "DEPLOY_SUCCESS\n",
      "\n",
      "\n",
      "------------------------------------------------------------------------------------------------\n",
      "Successfully finished deployment creation, deployment_uid='2d565ace-e808-4dc8-ba23-7ce335e81a0e'\n",
      "------------------------------------------------------------------------------------------------\n",
      "\n",
      "\n"
     ]
    }
   ],
   "source": [
    "created_deployment = client.deployments.create(published_model_uid, name=\"Weather Forecast\")"
   ]
  },
  {
   "cell_type": "code",
   "execution_count": 65,
   "metadata": {},
   "outputs": [
    {
     "data": {
      "text/plain": [
       "'https://eu-gb.ml.cloud.ibm.com/v3/wml_instances/665208e9-8ff4-4ce2-bfc4-a647fd42c7cd/deployments/2d565ace-e808-4dc8-ba23-7ce335e81a0e/online'"
      ]
     },
     "execution_count": 65,
     "metadata": {},
     "output_type": "execute_result"
    }
   ],
   "source": [
    "scoring_endpoint =client.deployments.get_scoring_url(created_deployment)\n",
    "scoring_endpoint"
   ]
  },
  {
   "cell_type": "code",
   "execution_count": 66,
   "metadata": {},
   "outputs": [
    {
     "name": "stdout",
     "output_type": "stream",
     "text": [
      "------------------------------------  ----------------  ------  --------------  ------------------------  -----------------  -------------\n",
      "GUID                                  NAME              TYPE    STATE           CREATED                   FRAMEWORK          ARTIFACT TYPE\n",
      "2d565ace-e808-4dc8-ba23-7ce335e81a0e  Weather Forecast  online  DEPLOY_SUCCESS  2019-05-23T08:49:26.901Z  scikit-learn-0.19  model\n",
      "dc359835-2d79-4aec-9580-74fab341b3de  Weather Forecast  online  DEPLOY_SUCCESS  2019-05-23T08:22:18.718Z  scikit-learn-0.19  model\n",
      "9e5b162f-c0d4-4de3-96fc-8af987198fdb  Weather Forecast  online  DEPLOY_SUCCESS  2019-05-23T08:02:20.532Z  scikit-learn-0.19  model\n",
      "------------------------------------  ----------------  ------  --------------  ------------------------  -----------------  -------------\n"
     ]
    }
   ],
   "source": [
    "client.deployments.list()"
   ]
  },
  {
   "cell_type": "code",
   "execution_count": null,
   "metadata": {},
   "outputs": [],
   "source": []
  },
  {
   "cell_type": "code",
   "execution_count": null,
   "metadata": {},
   "outputs": [],
   "source": []
  },
  {
   "cell_type": "code",
   "execution_count": null,
   "metadata": {},
   "outputs": [],
   "source": []
  },
  {
   "cell_type": "code",
   "execution_count": null,
   "metadata": {},
   "outputs": [],
   "source": []
  },
  {
   "cell_type": "code",
   "execution_count": null,
   "metadata": {},
   "outputs": [],
   "source": []
  }
 ],
 "metadata": {
  "kernelspec": {
   "display_name": "Python 3.5",
   "language": "python",
   "name": "python3"
  },
  "language_info": {
   "codemirror_mode": {
    "name": "ipython",
    "version": 3
   },
   "file_extension": ".py",
   "mimetype": "text/x-python",
   "name": "python",
   "nbconvert_exporter": "python",
   "pygments_lexer": "ipython3",
   "version": "3.5.5"
  }
 },
 "nbformat": 4,
 "nbformat_minor": 2
}
